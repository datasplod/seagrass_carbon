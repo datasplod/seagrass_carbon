{
 "cells": [
  {
   "cell_type": "markdown",
   "id": "c7de6881-be85-4962-b028-f6bcf8eab782",
   "metadata": {},
   "source": [
    "## Regression analysis of seagrass carbon dataset"
   ]
  },
  {
   "cell_type": "markdown",
   "id": "e2832732-310a-4a0e-ac8d-d2906ea77750",
   "metadata": {},
   "source": [
    "**Aim**: to create a predictive model of carbon for seagrass beds using regression ML methods"
   ]
  },
  {
   "cell_type": "code",
   "execution_count": 1,
   "id": "575532be-3f40-45df-ae92-afd8a9492100",
   "metadata": {},
   "outputs": [],
   "source": [
    "import numpy as np\n",
    "import matplotlib.pyplot as plt\n",
    "import seaborn as sns\n",
    "import pandas as pd"
   ]
  },
  {
   "cell_type": "code",
   "execution_count": 2,
   "id": "39900549-9d48-40c0-b72a-ba436dd61b8c",
   "metadata": {},
   "outputs": [],
   "source": [
    "from functools import reduce"
   ]
  },
  {
   "cell_type": "code",
   "execution_count": 3,
   "id": "545788db-81b9-4db3-95bc-6022ec9c5b95",
   "metadata": {},
   "outputs": [],
   "source": [
    "from sklearn.datasets import make_regression\n",
    "from sklearn.ensemble import GradientBoostingRegressor\n",
    "from sklearn.model_selection import train_test_split\n",
    "from sklearn import preprocessing\n",
    "from sklearn.preprocessing import OrdinalEncoder\n",
    "from sklearn.preprocessing import LabelEncoder"
   ]
  },
  {
   "cell_type": "markdown",
   "id": "540484a7-d54a-4930-9b02-e5f1aed328c1",
   "metadata": {},
   "source": [
    "## Import Data"
   ]
  },
  {
   "cell_type": "code",
   "execution_count": 4,
   "id": "96f65aa4-c775-4f1b-8d2c-57f932abe908",
   "metadata": {},
   "outputs": [],
   "source": [
    "## Import carbon data\n",
    "path = r\"C:\\Users\\nw431\\OneDrive - University of Exeter\\1_PhD Research\\Project1_Carbon Model\\Seagrass env variables\\1E_Final dataset\\Outputs\\final_dataset.csv\"\n",
    "df = pd.read_csv(path, index_col = 0)"
   ]
  },
  {
   "cell_type": "code",
   "execution_count": 5,
   "id": "837502a8-0e67-444c-add2-b5ee52d221fa",
   "metadata": {},
   "outputs": [],
   "source": [
    "#drop rows with nan in long/lat column to remove with no data\n",
    "df = df[df['Lat'].notna()]\n",
    "#rename species to combine Z. marina mixed to one \n",
    "df['Species'].replace({'Z. marina/Z. angustifolia/Z. noltii/Ruppiaspp.': 'Z. marina mixed', 'Z. marina/Z. noltii': 'Z. marina mixed'}, inplace = True)\n",
    "#df['Species'].unique()\n",
    "#drop REALM, Site_name, Mono-mix (as unvegetated within species) - unncesssary columns\n",
    "df = df.drop(['Site_name', 'Mono_mix', 'REALM', 'C25_SD', 'ECO_CODE', 'PROV_CODE',\n",
    "       'RLM_CODE', 'land_cover_class'], axis =1)\n",
    "df = df.rename({'forest%': 'forest_pc', 'soil_clay%': 'soil_clay_pc', 'soil_silt%': 'soil_silt_pc', 'soil_sand%': 'soil_sand_pc'}, axis='columns')"
   ]
  },
  {
   "cell_type": "code",
   "execution_count": 6,
   "id": "7dfda19c-8aff-4acf-8a99-181b21e7f32e",
   "metadata": {},
   "outputs": [],
   "source": [
    "#select columns of interest for regression\n",
    "reg_cols = ['Cstock25_Mgha','Lat', 'exposure', 'Species', 'extr_exposure', 'ECOREGION', 'PROVINCE', 'NEAR_DIST', 'mean_area_TUR_Nechad2016_665',\n",
    "       'mean_area_SPM_Nechad2016_665', 'mean_area_p3qaa_zSD', 'mean_area_p3qaa_eta', 'mean_pressure', 'mean_temp',\n",
    "        'soil_clay_pc', 'soil_erosion', 'soil_water', 'hfi_93', 'hfi_09',\n",
    "       'soil_silt_pc', 'soil_sand_pc', 'soil_carbon_stock', 'PAR_mean', 'forest_pc', 'MEAN_SIG_WAVEHEIGHT', \n",
    "        'REGIONAL_SINUOSITY', 'GHM', \n",
    "       'OUTFLOW_DENSITY', 'mean_rain', 'Tidal_range', 'ERODIBILITY', 'TEMP_MOISTURE','EMU_PHYSICAL',]\n",
    "\n",
    "df = df.loc[:, reg_cols]"
   ]
  },
  {
   "cell_type": "code",
   "execution_count": 7,
   "id": "a269bbbc-a2eb-4ca5-a33e-801e374da172",
   "metadata": {},
   "outputs": [],
   "source": [
    "#cols to remove due to correlation (tested below - iterative process)\n",
    "corr_cols = ['mean_area_TUR_Nechad2016_665', 'mean_area_SPM_Nechad2016_665', 'PROVINCE', 'hfi_09', 'hfi_93', 'extr_exposure', 'Lat', 'mean_area_p3qaa_eta', 'soil_clay_pc', 'soil_sand_pc', 'mean_temp', 'ECOREGION']\n",
    "df = df.drop(corr_cols, axis =1)"
   ]
  },
  {
   "cell_type": "code",
   "execution_count": 8,
   "id": "c12f9244-7cd9-4c92-99b1-f820366eccac",
   "metadata": {},
   "outputs": [
    {
     "data": {
      "text/plain": [
       "(237, 21)"
      ]
     },
     "execution_count": 8,
     "metadata": {},
     "output_type": "execute_result"
    }
   ],
   "source": [
    "df.shape"
   ]
  },
  {
   "cell_type": "code",
   "execution_count": 9,
   "id": "f1940374-dd20-49bf-b332-43861238daad",
   "metadata": {},
   "outputs": [],
   "source": [
    "# use only Z.marina data - remove species cat\n",
    "zmarina = ['Z. marina', 'Z. marina mixed']\n",
    "df = df[df['Species'].isin(zmarina)]\n",
    "df = df.drop('Species', axis = 1)"
   ]
  },
  {
   "cell_type": "code",
   "execution_count": 10,
   "id": "b89c4132-3ecc-4d4a-b92a-3d407364793d",
   "metadata": {},
   "outputs": [
    {
     "data": {
      "text/plain": [
       "(175, 20)"
      ]
     },
     "execution_count": 10,
     "metadata": {},
     "output_type": "execute_result"
    }
   ],
   "source": [
    "#drop any remaining nans\n",
    "df = df.dropna(how='any')\n",
    "df.shape"
   ]
  },
  {
   "cell_type": "markdown",
   "id": "630abcc0-c8b7-4271-9ffd-ca3eba0fc87a",
   "metadata": {
    "tags": []
   },
   "source": [
    "## Preprocessing "
   ]
  },
  {
   "cell_type": "markdown",
   "id": "3259e30f-cbe8-499c-9727-dd6424ea36b8",
   "metadata": {
    "tags": []
   },
   "source": [
    "### Encode categorical data"
   ]
  },
  {
   "cell_type": "markdown",
   "id": "58991ad3-a274-4bee-9ac9-b26edbc9087f",
   "metadata": {},
   "source": [
    "Resources: LabelEncoder (doesn't have order)- https://www.geeksforgeeks.org/how-to-convert-categorical-features-to-numerical-features-in-python/ \\\\Ordinal Encoder: https://towardsdatascience.com/preprocessing-with-sklearn-a-complete-and-comprehensive-guide-670cb98fcfb9"
   ]
  },
  {
   "cell_type": "markdown",
   "id": "f474ef80-b4a6-4835-a86e-907ee3e8e3f0",
   "metadata": {
    "tags": []
   },
   "source": [
    "One hot encode not appropriate for regression tree - label encoder alternative"
   ]
  },
  {
   "cell_type": "code",
   "execution_count": 11,
   "id": "d9e630f4-bc95-4a80-8fca-f0078ee58c9e",
   "metadata": {},
   "outputs": [],
   "source": [
    "#one hot encode categorical columns with get_dummies\n",
    "#sg_df_ohe = pd.get_dummies(sg_df, columns = cat_cols)"
   ]
  },
  {
   "cell_type": "code",
   "execution_count": 12,
   "id": "28d061d4-0517-4a27-8399-9f0a702e3663",
   "metadata": {},
   "outputs": [
    {
     "data": {
      "text/plain": [
       "array(['High', 'Medium', 'Low', 'Non'], dtype=object)"
      ]
     },
     "execution_count": 12,
     "metadata": {},
     "output_type": "execute_result"
    }
   ],
   "source": [
    "df.ERODIBILITY.unique()"
   ]
  },
  {
   "cell_type": "code",
   "execution_count": 13,
   "id": "3b33df2a-5518-4b71-ab8e-d2ba218e6dc9",
   "metadata": {},
   "outputs": [],
   "source": [
    "df_encoded = df.copy()"
   ]
  },
  {
   "cell_type": "code",
   "execution_count": 14,
   "id": "855b8b1f-2224-431f-9e6b-65cd03e73219",
   "metadata": {},
   "outputs": [],
   "source": [
    "enc = OrdinalEncoder(categories = [['Non', 'Low', 'Medium', 'High']])\n",
    "#enc.fit(df_encoded.ERODIBILITY)\n",
    "df_encoded.ERODIBILITY = enc.fit_transform(df_encoded.loc[:,['ERODIBILITY']])"
   ]
  },
  {
   "cell_type": "code",
   "execution_count": 15,
   "id": "1023f89f-d2d3-4a19-8763-4d9e0fb50569",
   "metadata": {},
   "outputs": [
    {
     "data": {
      "text/plain": [
       "['TEMP_MOISTURE', 'EMU_PHYSICAL']"
      ]
     },
     "execution_count": 15,
     "metadata": {},
     "output_type": "execute_result"
    }
   ],
   "source": [
    "cat_cols = df_encoded.select_dtypes(include=object).columns.tolist()\n",
    "cat_cols"
   ]
  },
  {
   "cell_type": "code",
   "execution_count": 16,
   "id": "f259edc6-22b7-4433-a157-1404cd3749c5",
   "metadata": {},
   "outputs": [],
   "source": [
    "#label encoder on categorical columns\n",
    "df_encoded[cat_cols] = df_encoded[cat_cols].apply(LabelEncoder().fit_transform)\n"
   ]
  },
  {
   "cell_type": "code",
   "execution_count": 17,
   "id": "d66efa53-cfc6-4c3f-9d16-f75d1531c340",
   "metadata": {},
   "outputs": [
    {
     "data": {
      "text/plain": [
       "(175, 20)"
      ]
     },
     "execution_count": 17,
     "metadata": {},
     "output_type": "execute_result"
    }
   ],
   "source": [
    "#drop cat cols or select numeric columns only\n",
    "numerics = ['int16', 'int32', 'int64', 'float16', 'float32', 'float64', 'uint8']\n",
    "df = df_encoded.select_dtypes(include = numerics)\n",
    "df.shape"
   ]
  },
  {
   "cell_type": "code",
   "execution_count": 18,
   "id": "731716a8-7a68-44cc-afd5-835d88649c4b",
   "metadata": {},
   "outputs": [
    {
     "data": {
      "text/plain": [
       "(174, 20)"
      ]
     },
     "execution_count": 18,
     "metadata": {},
     "output_type": "execute_result"
    }
   ],
   "source": [
    "#drop nan rows\n",
    "df = df.dropna(how='any')\n",
    "#drop outlier in cstock\n",
    "outlier = df[df['Cstock25_Mgha'] > 250].index\n",
    "df = df.drop(outlier)\n",
    "df.shape"
   ]
  },
  {
   "cell_type": "code",
   "execution_count": 19,
   "id": "1f098664-5c7d-4b33-b069-9bbd93170d0d",
   "metadata": {},
   "outputs": [
    {
     "data": {
      "text/plain": [
       "Index(['Cstock25_Mgha', 'exposure', 'NEAR_DIST', 'mean_area_p3qaa_zSD',\n",
       "       'mean_pressure', 'soil_erosion', 'soil_water', 'soil_silt_pc',\n",
       "       'soil_carbon_stock', 'PAR_mean', 'forest_pc', 'MEAN_SIG_WAVEHEIGHT',\n",
       "       'REGIONAL_SINUOSITY', 'GHM', 'OUTFLOW_DENSITY', 'mean_rain',\n",
       "       'Tidal_range', 'ERODIBILITY', 'TEMP_MOISTURE', 'EMU_PHYSICAL'],\n",
       "      dtype='object')"
      ]
     },
     "execution_count": 19,
     "metadata": {},
     "output_type": "execute_result"
    }
   ],
   "source": [
    "df.keys()"
   ]
  },
  {
   "cell_type": "code",
   "execution_count": 20,
   "id": "5cf326fb-1403-4064-94cd-7d81a18291ec",
   "metadata": {},
   "outputs": [
    {
     "data": {
      "text/html": [
       "<div>\n",
       "<style scoped>\n",
       "    .dataframe tbody tr th:only-of-type {\n",
       "        vertical-align: middle;\n",
       "    }\n",
       "\n",
       "    .dataframe tbody tr th {\n",
       "        vertical-align: top;\n",
       "    }\n",
       "\n",
       "    .dataframe thead th {\n",
       "        text-align: right;\n",
       "    }\n",
       "</style>\n",
       "<table border=\"1\" class=\"dataframe\">\n",
       "  <thead>\n",
       "    <tr style=\"text-align: right;\">\n",
       "      <th></th>\n",
       "      <th>Cstock25_Mgha</th>\n",
       "      <th>exposure</th>\n",
       "      <th>NEAR_DIST</th>\n",
       "      <th>mean_area_p3qaa_zSD</th>\n",
       "      <th>mean_pressure</th>\n",
       "      <th>soil_erosion</th>\n",
       "      <th>soil_water</th>\n",
       "      <th>soil_silt_pc</th>\n",
       "      <th>soil_carbon_stock</th>\n",
       "      <th>PAR_mean</th>\n",
       "      <th>forest_pc</th>\n",
       "      <th>MEAN_SIG_WAVEHEIGHT</th>\n",
       "      <th>REGIONAL_SINUOSITY</th>\n",
       "      <th>GHM</th>\n",
       "      <th>OUTFLOW_DENSITY</th>\n",
       "      <th>mean_rain</th>\n",
       "      <th>Tidal_range</th>\n",
       "      <th>ERODIBILITY</th>\n",
       "      <th>TEMP_MOISTURE</th>\n",
       "      <th>EMU_PHYSICAL</th>\n",
       "    </tr>\n",
       "  </thead>\n",
       "  <tbody>\n",
       "  </tbody>\n",
       "</table>\n",
       "</div>"
      ],
      "text/plain": [
       "Empty DataFrame\n",
       "Columns: [Cstock25_Mgha, exposure, NEAR_DIST, mean_area_p3qaa_zSD, mean_pressure, soil_erosion, soil_water, soil_silt_pc, soil_carbon_stock, PAR_mean, forest_pc, MEAN_SIG_WAVEHEIGHT, REGIONAL_SINUOSITY, GHM, OUTFLOW_DENSITY, mean_rain, Tidal_range, ERODIBILITY, TEMP_MOISTURE, EMU_PHYSICAL]\n",
       "Index: []"
      ]
     },
     "execution_count": 20,
     "metadata": {},
     "output_type": "execute_result"
    }
   ],
   "source": [
    "check_for_nan = df[df.isna().any(axis =1)]\n",
    "check_for_nan"
   ]
  },
  {
   "cell_type": "markdown",
   "id": "ab6212e0-fa3b-44b3-bc11-d2106f7e7cc1",
   "metadata": {},
   "source": [
    "### Set up y split train and test"
   ]
  },
  {
   "cell_type": "code",
   "execution_count": 111,
   "id": "eb84413c-f095-474f-9bea-16626594f4f2",
   "metadata": {},
   "outputs": [],
   "source": [
    "X = df.drop(['Cstock25_Mgha'], axis = 1)\n",
    "y = df.loc[:, 'Cstock25_Mgha']"
   ]
  },
  {
   "cell_type": "code",
   "execution_count": 22,
   "id": "c6a8b187-2648-4c47-bd2e-c14d82c2cfbf",
   "metadata": {},
   "outputs": [],
   "source": [
    "y_log = np.log(y)"
   ]
  },
  {
   "cell_type": "code",
   "execution_count": 23,
   "id": "6074619f-4db4-4c37-b40c-58a4999c04db",
   "metadata": {},
   "outputs": [],
   "source": [
    "#split into train and test datasets\n",
    "X_train, X_test, y_train, y_test = train_test_split(X, y, test_size = 0.2)"
   ]
  },
  {
   "cell_type": "markdown",
   "id": "ea8ad4a5-c743-448f-90bb-3fdc0c2d962c",
   "metadata": {},
   "source": [
    "Note: Log transform data creates infinity or nan values for any 0 e.g. those that are encoded"
   ]
  },
  {
   "cell_type": "code",
   "execution_count": 24,
   "id": "c16b6384-6ae8-4aff-a80d-842967a8c9d6",
   "metadata": {},
   "outputs": [],
   "source": [
    "from sklearn.preprocessing import FunctionTransformer\n",
    "#transformer = FunctionTransformer(np.log1p)\n",
    "#transformer.fit(X_train)\n",
    "\n",
    "#X_train_log = transformer.fit_transform(X_train)\n",
    "#X_test_log = transformer.transform(X_test)\n",
    "#X_log = transformer.transform(X)"
   ]
  },
  {
   "cell_type": "code",
   "execution_count": 25,
   "id": "83077845-1ebd-491f-92e2-dbcee5d4d032",
   "metadata": {},
   "outputs": [
    {
     "data": {
      "text/html": [
       "<div>\n",
       "<style scoped>\n",
       "    .dataframe tbody tr th:only-of-type {\n",
       "        vertical-align: middle;\n",
       "    }\n",
       "\n",
       "    .dataframe tbody tr th {\n",
       "        vertical-align: top;\n",
       "    }\n",
       "\n",
       "    .dataframe thead th {\n",
       "        text-align: right;\n",
       "    }\n",
       "</style>\n",
       "<table border=\"1\" class=\"dataframe\">\n",
       "  <thead>\n",
       "    <tr style=\"text-align: right;\">\n",
       "      <th></th>\n",
       "      <th>exposure</th>\n",
       "      <th>NEAR_DIST</th>\n",
       "      <th>mean_area_p3qaa_zSD</th>\n",
       "      <th>mean_pressure</th>\n",
       "      <th>soil_erosion</th>\n",
       "      <th>soil_water</th>\n",
       "      <th>soil_silt_pc</th>\n",
       "      <th>soil_carbon_stock</th>\n",
       "      <th>PAR_mean</th>\n",
       "      <th>forest_pc</th>\n",
       "      <th>MEAN_SIG_WAVEHEIGHT</th>\n",
       "      <th>REGIONAL_SINUOSITY</th>\n",
       "      <th>GHM</th>\n",
       "      <th>OUTFLOW_DENSITY</th>\n",
       "      <th>mean_rain</th>\n",
       "      <th>Tidal_range</th>\n",
       "      <th>ERODIBILITY</th>\n",
       "      <th>TEMP_MOISTURE</th>\n",
       "      <th>EMU_PHYSICAL</th>\n",
       "    </tr>\n",
       "  </thead>\n",
       "  <tbody>\n",
       "  </tbody>\n",
       "</table>\n",
       "</div>"
      ],
      "text/plain": [
       "Empty DataFrame\n",
       "Columns: [exposure, NEAR_DIST, mean_area_p3qaa_zSD, mean_pressure, soil_erosion, soil_water, soil_silt_pc, soil_carbon_stock, PAR_mean, forest_pc, MEAN_SIG_WAVEHEIGHT, REGIONAL_SINUOSITY, GHM, OUTFLOW_DENSITY, mean_rain, Tidal_range, ERODIBILITY, TEMP_MOISTURE, EMU_PHYSICAL]\n",
       "Index: []"
      ]
     },
     "execution_count": 25,
     "metadata": {},
     "output_type": "execute_result"
    }
   ],
   "source": [
    "check_for_nan = X[X.isna().any(axis =1)]\n",
    "check_for_nan"
   ]
  },
  {
   "cell_type": "code",
   "execution_count": 26,
   "id": "46303d40-1c1b-4171-a8fc-4b81d35a1e76",
   "metadata": {},
   "outputs": [
    {
     "name": "stdout",
     "output_type": "stream",
     "text": [
      "(174, 19)\n",
      "(174,)\n"
     ]
    }
   ],
   "source": [
    "print(X.shape)\n",
    "print(y.shape)"
   ]
  },
  {
   "cell_type": "markdown",
   "id": "3e2f9fe1-97d8-44de-b397-24c20435dce3",
   "metadata": {
    "jp-MarkdownHeadingCollapsed": true,
    "tags": []
   },
   "source": [
    "## Visualise data before analysis"
   ]
  },
  {
   "cell_type": "code",
   "execution_count": null,
   "id": "dc184501-0ec9-44d8-8255-47290823a63a",
   "metadata": {},
   "outputs": [],
   "source": [
    "#viz on df_all\n",
    "df_viz = sg_df[['exposure', 'Cstock25_Mgha', 'mean_rain','mean_area_p3qaa_zSD', 'Tidal_range', 'NEAR_DIST']]\n",
    "df_viz = np.log(df_viz)\n",
    "sns.pairplot(df_viz)"
   ]
  },
  {
   "cell_type": "code",
   "execution_count": null,
   "id": "be77bc0c-0f90-4ee3-b0df-b63d29e7ac2d",
   "metadata": {},
   "outputs": [],
   "source": [
    "df_viz.describe()[['Cstock25_Mgha', 'exposure']]\n",
    "#df.describe()[[‘fare_amount’, ‘passenger_count’]]\n",
    "#df_viz.Cstock25_Mgha.hist()\n"
   ]
  },
  {
   "cell_type": "code",
   "execution_count": null,
   "id": "e62cd9c8-4fc2-4579-9fd7-035642701549",
   "metadata": {},
   "outputs": [],
   "source": [
    "#viz for poster\n",
    "# df_cat = df_x[['Species', 'ECOREGION']]\n",
    "# df_num = df_x[['mean_area_TUR_Nechad2016_665','exposure', 'Cstock25_Mgha', 'mean_rain','mean_area_p3qaa_zSD', 'Tidal_range', 'NEAR_DIST','mean_temp']]\n",
    "# log_df = np.log(df_num)\n",
    "# df_log_all = pd.merge(log_df, df_cat, left_index = True, right_index = True)\n",
    "# #rename columns\n",
    "# df_log_all = df_log_all.rename(columns={'exposure': 'Exposure', 'Tidal_range': 'Tidal Range', 'mean_area_TUR_Nechad2016_665':'Turbidity', 'Carbon stock Mgha':'Carbon stock (Mgha)'})\n",
    "# pp = sns.pairplot(data=df_log_all,\n",
    "#                   y_vars=['Carbon stock (Mgha)'],\n",
    "#                   x_vars=['Exposure', 'Tidal Range', 'Turbidity'],\n",
    "#                  hue = 'ECOREGION')\n",
    "# pp;\n",
    "\n",
    "#pp.savefig(\"small_pairplot.png\") "
   ]
  },
  {
   "cell_type": "markdown",
   "id": "24fe731e-66e0-479a-bfb3-7095bb71f561",
   "metadata": {},
   "source": [
    "zSD (secchi depth) and TUR (turbidity) are correlated as expected as clarity of water will decrease with increasing turbidity. But no real correlation of carbon stock with the predictor variables\n"
   ]
  },
  {
   "cell_type": "code",
   "execution_count": null,
   "id": "97134409-f4d9-4e3b-8227-628e37f0dffa",
   "metadata": {},
   "outputs": [],
   "source": [
    "sns.heatmap(\n",
    "    df_viz.corr(), \n",
    "    vmin=-1, vmax=1, center=0,\n",
    "    cmap=sns.diverging_palette(20, 220, n=200),\n",
    "    square=True\n",
    ")"
   ]
  },
  {
   "cell_type": "code",
   "execution_count": null,
   "id": "1b81b17b-ba37-4c8e-8c15-f52da4ef1ef0",
   "metadata": {},
   "outputs": [],
   "source": [
    "sns.heatmap(\n",
    "    X.corr(), \n",
    "    vmin=-1, vmax=1, center=0,\n",
    "    cmap=sns.diverging_palette(20, 220, n=200),\n",
    "    square=True\n",
    ")"
   ]
  },
  {
   "cell_type": "markdown",
   "id": "377f2ce1-d9cf-4e65-8db1-0d63c47fea15",
   "metadata": {},
   "source": [
    "Get top correlated pairs to reduce dataset"
   ]
  },
  {
   "cell_type": "code",
   "execution_count": null,
   "id": "5bc9daba-e97a-4928-9bdf-d1b3ab2652c5",
   "metadata": {},
   "outputs": [],
   "source": [
    "def get_redundant_pairs(df):\n",
    "    '''Get diagonal and lower triangular pairs of correlation matrix'''\n",
    "    pairs_to_drop = set()\n",
    "    cols = df.columns\n",
    "    for i in range(0, df.shape[1]):\n",
    "        for j in range(0, i+1):\n",
    "            pairs_to_drop.add((cols[i], cols[j]))\n",
    "    return pairs_to_drop\n",
    "\n",
    "def get_top_abs_correlations(df, n=5):\n",
    "    au_corr = df.corr().abs().unstack()\n",
    "    labels_to_drop = get_redundant_pairs(df)\n",
    "    au_corr = au_corr.drop(labels=labels_to_drop).sort_values(ascending=False)\n",
    "    return au_corr[0:n]\n",
    "\n",
    "print(\"Top Absolute Correlations\")\n",
    "print(get_top_abs_correlations(X, 20))"
   ]
  },
  {
   "cell_type": "markdown",
   "id": "6f006b6d-ac86-4f8a-8559-a8fb140cb645",
   "metadata": {},
   "source": [
    "Pairs to choose only 1: zSD/Tur/SPM | PROVINCE/ECOREGION | hfi_93/hfi_09 | exposure/extr_exposure | sand/silt/clay% | Lat/PAR | Lat/Temp"
   ]
  },
  {
   "cell_type": "code",
   "execution_count": null,
   "id": "53cab1a2-0b48-48d1-9192-5e953c616741",
   "metadata": {},
   "outputs": [],
   "source": [
    "#cols to remove due to correlation\n",
    "#corr_cols = ['mean_area_TUR_Nechad2016_665', 'mean_area_SPM_Nechad2016_665', 'PROVINCE', 'hfi_09', 'extr_exposure', 'Lat']"
   ]
  },
  {
   "cell_type": "markdown",
   "id": "7d82be7e-e5d9-4ba3-aabb-a1e11c5586cf",
   "metadata": {},
   "source": [
    "## Run multiple linear regression with scikit-learn"
   ]
  },
  {
   "cell_type": "code",
   "execution_count": 27,
   "id": "3c06cff5-8275-40bf-b184-9587985a8fc4",
   "metadata": {},
   "outputs": [],
   "source": [
    "from sklearn.linear_model import LinearRegression\n",
    "from sklearn.metrics import mean_squared_error, mean_absolute_error"
   ]
  },
  {
   "cell_type": "code",
   "execution_count": 28,
   "id": "57354744-b1e5-4bc4-893f-e5338937fdb2",
   "metadata": {},
   "outputs": [],
   "source": [
    "from sklearn.metrics import r2_score"
   ]
  },
  {
   "cell_type": "code",
   "execution_count": 144,
   "id": "0615a057-5d27-41d2-bb7c-2815e031e66c",
   "metadata": {},
   "outputs": [
    {
     "data": {
      "text/plain": [
       "0.371179069853682"
      ]
     },
     "execution_count": 144,
     "metadata": {},
     "output_type": "execute_result"
    }
   ],
   "source": [
    "#create a regression model\n",
    "model = LinearRegression()\n",
    "model.fit(X, y_log)\n",
    "predictions = model.predict(X)\n",
    "r2_score(y_log, predictions)"
   ]
  },
  {
   "cell_type": "code",
   "execution_count": 142,
   "id": "666ec45d-ca78-4bc7-be9a-feb65e63c762",
   "metadata": {},
   "outputs": [],
   "source": [
    "\n",
    "#fitting the model\n",
    "\n",
    "#making predictions\n",
    "\n",
    "#model evaluation\n",
    "#print('mean_squared_error: ', mean_squared_error(y_test, predictions))\n",
    "#print('mean_absolute_error: ', mean_absolute_error(y_test, predictions))"
   ]
  },
  {
   "cell_type": "code",
   "execution_count": 143,
   "id": "eab233c0-66c6-43f1-98b1-fb95ae6a8dfb",
   "metadata": {},
   "outputs": [
    {
     "data": {
      "text/plain": [
       "0.371179069853682"
      ]
     },
     "execution_count": 143,
     "metadata": {},
     "output_type": "execute_result"
    }
   ],
   "source": []
  },
  {
   "cell_type": "code",
   "execution_count": 31,
   "id": "97747219-e5fc-45da-9596-1df05f6dc0a7",
   "metadata": {},
   "outputs": [],
   "source": [
    "for name, coef in zip(X, model.coef_):\n",
    "    pass\n",
    "    #print(f'{name}: {coef}')"
   ]
  },
  {
   "cell_type": "code",
   "execution_count": null,
   "id": "8d39ce30-cf8a-4166-869e-14f0542cbf47",
   "metadata": {},
   "outputs": [],
   "source": [
    "from sklearn.metrics import r2_score\n",
    "#RMSE = np.sqrt(mean_squared_error(y_test, predictions))\n",
    "#r2 = r2_score(y_test, predictions)\n",
    "#print(f'RMSE: {RMSE:.0f}')\n",
    "#print(f'r2 of test data: {r2:.4f}')"
   ]
  },
  {
   "cell_type": "code",
   "execution_count": 36,
   "id": "46aad93b-af0f-43af-bf56-22f90649224d",
   "metadata": {},
   "outputs": [],
   "source": [
    "import statsmodels.api as sm\n",
    "import statsmodels.formula.api as smf\n",
    "from patsy import dmatrices, dmatrix, demo_data"
   ]
  },
  {
   "cell_type": "code",
   "execution_count": 37,
   "id": "1153ba74-48fa-4d91-8623-a48d8f2417bf",
   "metadata": {},
   "outputs": [],
   "source": [
    "#y, X = dmatrices(\"Cstock25_Mgha ~ exposure + NEAR_DIST + mean_area_p3qaa_zSD + mean_pressure + soil_erosion + soil_water + soil_carbon_stock + PAR_mean + MEAN_SIG_WAVEHEIGHT + REGIONAL_SINUOSITY + GHM + OUTFLOW_DENSITY + mean_rain + Tidal_range + ERODIBILITY + TEMP_MOISTURE + EMU_PHYSICAL +forest_pc + soil_silt_pc\", df, return_type = 'dataframe')"
   ]
  },
  {
   "cell_type": "code",
   "execution_count": 139,
   "id": "b37ba13e-30da-4af6-805e-ad74b732690a",
   "metadata": {},
   "outputs": [],
   "source": [
    "X = df.drop(['Cstock25_Mgha'], axis = 1)\n",
    "y = df.loc[:, 'Cstock25_Mgha']\n",
    "y_log = np.log(y)"
   ]
  },
  {
   "cell_type": "code",
   "execution_count": 147,
   "id": "756bde23-07af-43c5-9896-6011d3b7141d",
   "metadata": {},
   "outputs": [],
   "source": [
    "#use statsmodels to get a more detailed analysis \n",
    "import statsmodels.api as sm\n",
    "X = sm.add_constant(X)  #allows nonzero intercept\n",
    "model_lr = sm.OLS(y_log, X).fit()\n",
    "res = model_lr.resid #residuals"
   ]
  },
  {
   "cell_type": "code",
   "execution_count": 148,
   "id": "b03523e7-bccb-4c96-8dca-66dcc3e8a309",
   "metadata": {},
   "outputs": [
    {
     "data": {
      "text/html": [
       "<table class=\"simpletable\">\n",
       "<caption>OLS Regression Results</caption>\n",
       "<tr>\n",
       "  <th>Dep. Variable:</th>      <td>Cstock25_Mgha</td>  <th>  R-squared:         </th> <td>   0.371</td>\n",
       "</tr>\n",
       "<tr>\n",
       "  <th>Model:</th>                   <td>OLS</td>       <th>  Adj. R-squared:    </th> <td>   0.294</td>\n",
       "</tr>\n",
       "<tr>\n",
       "  <th>Method:</th>             <td>Least Squares</td>  <th>  F-statistic:       </th> <td>   4.784</td>\n",
       "</tr>\n",
       "<tr>\n",
       "  <th>Date:</th>             <td>Thu, 17 Aug 2023</td> <th>  Prob (F-statistic):</th> <td>1.24e-08</td>\n",
       "</tr>\n",
       "<tr>\n",
       "  <th>Time:</th>                 <td>17:12:58</td>     <th>  Log-Likelihood:    </th> <td> -166.91</td>\n",
       "</tr>\n",
       "<tr>\n",
       "  <th>No. Observations:</th>      <td>   174</td>      <th>  AIC:               </th> <td>   373.8</td>\n",
       "</tr>\n",
       "<tr>\n",
       "  <th>Df Residuals:</th>          <td>   154</td>      <th>  BIC:               </th> <td>   437.0</td>\n",
       "</tr>\n",
       "<tr>\n",
       "  <th>Df Model:</th>              <td>    19</td>      <th>                     </th>     <td> </td>   \n",
       "</tr>\n",
       "<tr>\n",
       "  <th>Covariance Type:</th>      <td>nonrobust</td>    <th>                     </th>     <td> </td>   \n",
       "</tr>\n",
       "</table>\n",
       "<table class=\"simpletable\">\n",
       "<tr>\n",
       "           <td></td>              <th>coef</th>     <th>std err</th>      <th>t</th>      <th>P>|t|</th>  <th>[0.025</th>    <th>0.975]</th>  \n",
       "</tr>\n",
       "<tr>\n",
       "  <th>const</th>               <td>   68.6215</td> <td>   87.169</td> <td>    0.787</td> <td> 0.432</td> <td> -103.579</td> <td>  240.822</td>\n",
       "</tr>\n",
       "<tr>\n",
       "  <th>exposure</th>            <td>-4.068e-06</td> <td> 1.53e-06</td> <td>   -2.658</td> <td> 0.009</td> <td>-7.09e-06</td> <td>-1.04e-06</td>\n",
       "</tr>\n",
       "<tr>\n",
       "  <th>NEAR_DIST</th>           <td>    0.0001</td> <td>    0.000</td> <td>    0.591</td> <td> 0.555</td> <td>   -0.000</td> <td>    0.000</td>\n",
       "</tr>\n",
       "<tr>\n",
       "  <th>mean_area_p3qaa_zSD</th> <td>   -0.0177</td> <td>    0.048</td> <td>   -0.366</td> <td> 0.715</td> <td>   -0.113</td> <td>    0.078</td>\n",
       "</tr>\n",
       "<tr>\n",
       "  <th>mean_pressure</th>       <td>   -0.0007</td> <td>    0.001</td> <td>   -0.813</td> <td> 0.418</td> <td>   -0.002</td> <td>    0.001</td>\n",
       "</tr>\n",
       "<tr>\n",
       "  <th>soil_erosion</th>        <td>   -0.0002</td> <td>    0.000</td> <td>   -1.754</td> <td> 0.081</td> <td>   -0.000</td> <td>  2.4e-05</td>\n",
       "</tr>\n",
       "<tr>\n",
       "  <th>soil_water</th>          <td>    0.0296</td> <td>    0.009</td> <td>    3.229</td> <td> 0.002</td> <td>    0.012</td> <td>    0.048</td>\n",
       "</tr>\n",
       "<tr>\n",
       "  <th>soil_silt_pc</th>        <td>    0.0369</td> <td>    0.017</td> <td>    2.155</td> <td> 0.033</td> <td>    0.003</td> <td>    0.071</td>\n",
       "</tr>\n",
       "<tr>\n",
       "  <th>soil_carbon_stock</th>   <td>    0.0015</td> <td>    0.003</td> <td>    0.533</td> <td> 0.595</td> <td>   -0.004</td> <td>    0.007</td>\n",
       "</tr>\n",
       "<tr>\n",
       "  <th>PAR_mean</th>            <td>    0.0349</td> <td>    0.016</td> <td>    2.123</td> <td> 0.035</td> <td>    0.002</td> <td>    0.067</td>\n",
       "</tr>\n",
       "<tr>\n",
       "  <th>forest_pc</th>           <td>    0.0019</td> <td>    0.002</td> <td>    0.767</td> <td> 0.444</td> <td>   -0.003</td> <td>    0.007</td>\n",
       "</tr>\n",
       "<tr>\n",
       "  <th>MEAN_SIG_WAVEHEIGHT</th> <td>    0.2913</td> <td>    0.143</td> <td>    2.035</td> <td> 0.044</td> <td>    0.009</td> <td>    0.574</td>\n",
       "</tr>\n",
       "<tr>\n",
       "  <th>REGIONAL_SINUOSITY</th>  <td>   -0.0208</td> <td>    0.023</td> <td>   -0.912</td> <td> 0.363</td> <td>   -0.066</td> <td>    0.024</td>\n",
       "</tr>\n",
       "<tr>\n",
       "  <th>GHM</th>                 <td>    1.2110</td> <td>    0.326</td> <td>    3.718</td> <td> 0.000</td> <td>    0.568</td> <td>    1.854</td>\n",
       "</tr>\n",
       "<tr>\n",
       "  <th>OUTFLOW_DENSITY</th>     <td>-2.406e-08</td> <td>    5e-08</td> <td>   -0.482</td> <td> 0.631</td> <td>-1.23e-07</td> <td> 7.46e-08</td>\n",
       "</tr>\n",
       "<tr>\n",
       "  <th>mean_rain</th>           <td>   -2.5181</td> <td>    2.981</td> <td>   -0.845</td> <td> 0.400</td> <td>   -8.408</td> <td>    3.372</td>\n",
       "</tr>\n",
       "<tr>\n",
       "  <th>Tidal_range</th>         <td>    0.0057</td> <td>    0.049</td> <td>    0.115</td> <td> 0.908</td> <td>   -0.091</td> <td>    0.103</td>\n",
       "</tr>\n",
       "<tr>\n",
       "  <th>ERODIBILITY</th>         <td>    0.0787</td> <td>    0.069</td> <td>    1.146</td> <td> 0.253</td> <td>   -0.057</td> <td>    0.214</td>\n",
       "</tr>\n",
       "<tr>\n",
       "  <th>TEMP_MOISTURE</th>       <td>    0.0510</td> <td>    0.109</td> <td>    0.466</td> <td> 0.642</td> <td>   -0.165</td> <td>    0.267</td>\n",
       "</tr>\n",
       "<tr>\n",
       "  <th>EMU_PHYSICAL</th>        <td>   -0.0763</td> <td>    0.031</td> <td>   -2.492</td> <td> 0.014</td> <td>   -0.137</td> <td>   -0.016</td>\n",
       "</tr>\n",
       "</table>\n",
       "<table class=\"simpletable\">\n",
       "<tr>\n",
       "  <th>Omnibus:</th>       <td>10.509</td> <th>  Durbin-Watson:     </th> <td>   1.725</td>\n",
       "</tr>\n",
       "<tr>\n",
       "  <th>Prob(Omnibus):</th> <td> 0.005</td> <th>  Jarque-Bera (JB):  </th> <td>  10.776</td>\n",
       "</tr>\n",
       "<tr>\n",
       "  <th>Skew:</th>          <td> 0.535</td> <th>  Prob(JB):          </th> <td> 0.00457</td>\n",
       "</tr>\n",
       "<tr>\n",
       "  <th>Kurtosis:</th>      <td> 3.584</td> <th>  Cond. No.          </th> <td>1.90e+09</td>\n",
       "</tr>\n",
       "</table><br/><br/>Notes:<br/>[1] Standard Errors assume that the covariance matrix of the errors is correctly specified.<br/>[2] The condition number is large, 1.9e+09. This might indicate that there are<br/>strong multicollinearity or other numerical problems."
      ],
      "text/latex": [
       "\\begin{center}\n",
       "\\begin{tabular}{lclc}\n",
       "\\toprule\n",
       "\\textbf{Dep. Variable:}         &  Cstock25\\_Mgha  & \\textbf{  R-squared:         } &     0.371   \\\\\n",
       "\\textbf{Model:}                 &       OLS        & \\textbf{  Adj. R-squared:    } &     0.294   \\\\\n",
       "\\textbf{Method:}                &  Least Squares   & \\textbf{  F-statistic:       } &     4.784   \\\\\n",
       "\\textbf{Date:}                  & Thu, 17 Aug 2023 & \\textbf{  Prob (F-statistic):} &  1.24e-08   \\\\\n",
       "\\textbf{Time:}                  &     17:12:58     & \\textbf{  Log-Likelihood:    } &   -166.91   \\\\\n",
       "\\textbf{No. Observations:}      &         174      & \\textbf{  AIC:               } &     373.8   \\\\\n",
       "\\textbf{Df Residuals:}          &         154      & \\textbf{  BIC:               } &     437.0   \\\\\n",
       "\\textbf{Df Model:}              &          19      & \\textbf{                     } &             \\\\\n",
       "\\textbf{Covariance Type:}       &    nonrobust     & \\textbf{                     } &             \\\\\n",
       "\\bottomrule\n",
       "\\end{tabular}\n",
       "\\begin{tabular}{lcccccc}\n",
       "                                & \\textbf{coef} & \\textbf{std err} & \\textbf{t} & \\textbf{P$> |$t$|$} & \\textbf{[0.025} & \\textbf{0.975]}  \\\\\n",
       "\\midrule\n",
       "\\textbf{const}                  &      68.6215  &       87.169     &     0.787  &         0.432        &     -103.579    &      240.822     \\\\\n",
       "\\textbf{exposure}               &   -4.068e-06  &     1.53e-06     &    -2.658  &         0.009        &    -7.09e-06    &    -1.04e-06     \\\\\n",
       "\\textbf{NEAR\\_DIST}             &       0.0001  &        0.000     &     0.591  &         0.555        &       -0.000    &        0.000     \\\\\n",
       "\\textbf{mean\\_area\\_p3qaa\\_zSD} &      -0.0177  &        0.048     &    -0.366  &         0.715        &       -0.113    &        0.078     \\\\\n",
       "\\textbf{mean\\_pressure}         &      -0.0007  &        0.001     &    -0.813  &         0.418        &       -0.002    &        0.001     \\\\\n",
       "\\textbf{soil\\_erosion}          &      -0.0002  &        0.000     &    -1.754  &         0.081        &       -0.000    &      2.4e-05     \\\\\n",
       "\\textbf{soil\\_water}            &       0.0296  &        0.009     &     3.229  &         0.002        &        0.012    &        0.048     \\\\\n",
       "\\textbf{soil\\_silt\\_pc}         &       0.0369  &        0.017     &     2.155  &         0.033        &        0.003    &        0.071     \\\\\n",
       "\\textbf{soil\\_carbon\\_stock}    &       0.0015  &        0.003     &     0.533  &         0.595        &       -0.004    &        0.007     \\\\\n",
       "\\textbf{PAR\\_mean}              &       0.0349  &        0.016     &     2.123  &         0.035        &        0.002    &        0.067     \\\\\n",
       "\\textbf{forest\\_pc}             &       0.0019  &        0.002     &     0.767  &         0.444        &       -0.003    &        0.007     \\\\\n",
       "\\textbf{MEAN\\_SIG\\_WAVEHEIGHT}  &       0.2913  &        0.143     &     2.035  &         0.044        &        0.009    &        0.574     \\\\\n",
       "\\textbf{REGIONAL\\_SINUOSITY}    &      -0.0208  &        0.023     &    -0.912  &         0.363        &       -0.066    &        0.024     \\\\\n",
       "\\textbf{GHM}                    &       1.2110  &        0.326     &     3.718  &         0.000        &        0.568    &        1.854     \\\\\n",
       "\\textbf{OUTFLOW\\_DENSITY}       &   -2.406e-08  &        5e-08     &    -0.482  &         0.631        &    -1.23e-07    &     7.46e-08     \\\\\n",
       "\\textbf{mean\\_rain}             &      -2.5181  &        2.981     &    -0.845  &         0.400        &       -8.408    &        3.372     \\\\\n",
       "\\textbf{Tidal\\_range}           &       0.0057  &        0.049     &     0.115  &         0.908        &       -0.091    &        0.103     \\\\\n",
       "\\textbf{ERODIBILITY}            &       0.0787  &        0.069     &     1.146  &         0.253        &       -0.057    &        0.214     \\\\\n",
       "\\textbf{TEMP\\_MOISTURE}         &       0.0510  &        0.109     &     0.466  &         0.642        &       -0.165    &        0.267     \\\\\n",
       "\\textbf{EMU\\_PHYSICAL}          &      -0.0763  &        0.031     &    -2.492  &         0.014        &       -0.137    &       -0.016     \\\\\n",
       "\\bottomrule\n",
       "\\end{tabular}\n",
       "\\begin{tabular}{lclc}\n",
       "\\textbf{Omnibus:}       & 10.509 & \\textbf{  Durbin-Watson:     } &    1.725  \\\\\n",
       "\\textbf{Prob(Omnibus):} &  0.005 & \\textbf{  Jarque-Bera (JB):  } &   10.776  \\\\\n",
       "\\textbf{Skew:}          &  0.535 & \\textbf{  Prob(JB):          } &  0.00457  \\\\\n",
       "\\textbf{Kurtosis:}      &  3.584 & \\textbf{  Cond. No.          } & 1.90e+09  \\\\\n",
       "\\bottomrule\n",
       "\\end{tabular}\n",
       "%\\caption{OLS Regression Results}\n",
       "\\end{center}\n",
       "\n",
       "Notes: \\newline\n",
       " [1] Standard Errors assume that the covariance matrix of the errors is correctly specified. \\newline\n",
       " [2] The condition number is large, 1.9e+09. This might indicate that there are \\newline\n",
       " strong multicollinearity or other numerical problems."
      ],
      "text/plain": [
       "<class 'statsmodels.iolib.summary.Summary'>\n",
       "\"\"\"\n",
       "                            OLS Regression Results                            \n",
       "==============================================================================\n",
       "Dep. Variable:          Cstock25_Mgha   R-squared:                       0.371\n",
       "Model:                            OLS   Adj. R-squared:                  0.294\n",
       "Method:                 Least Squares   F-statistic:                     4.784\n",
       "Date:                Thu, 17 Aug 2023   Prob (F-statistic):           1.24e-08\n",
       "Time:                        17:12:58   Log-Likelihood:                -166.91\n",
       "No. Observations:                 174   AIC:                             373.8\n",
       "Df Residuals:                     154   BIC:                             437.0\n",
       "Df Model:                          19                                         \n",
       "Covariance Type:            nonrobust                                         \n",
       "=======================================================================================\n",
       "                          coef    std err          t      P>|t|      [0.025      0.975]\n",
       "---------------------------------------------------------------------------------------\n",
       "const                  68.6215     87.169      0.787      0.432    -103.579     240.822\n",
       "exposure            -4.068e-06   1.53e-06     -2.658      0.009   -7.09e-06   -1.04e-06\n",
       "NEAR_DIST               0.0001      0.000      0.591      0.555      -0.000       0.000\n",
       "mean_area_p3qaa_zSD    -0.0177      0.048     -0.366      0.715      -0.113       0.078\n",
       "mean_pressure          -0.0007      0.001     -0.813      0.418      -0.002       0.001\n",
       "soil_erosion           -0.0002      0.000     -1.754      0.081      -0.000     2.4e-05\n",
       "soil_water              0.0296      0.009      3.229      0.002       0.012       0.048\n",
       "soil_silt_pc            0.0369      0.017      2.155      0.033       0.003       0.071\n",
       "soil_carbon_stock       0.0015      0.003      0.533      0.595      -0.004       0.007\n",
       "PAR_mean                0.0349      0.016      2.123      0.035       0.002       0.067\n",
       "forest_pc               0.0019      0.002      0.767      0.444      -0.003       0.007\n",
       "MEAN_SIG_WAVEHEIGHT     0.2913      0.143      2.035      0.044       0.009       0.574\n",
       "REGIONAL_SINUOSITY     -0.0208      0.023     -0.912      0.363      -0.066       0.024\n",
       "GHM                     1.2110      0.326      3.718      0.000       0.568       1.854\n",
       "OUTFLOW_DENSITY     -2.406e-08      5e-08     -0.482      0.631   -1.23e-07    7.46e-08\n",
       "mean_rain              -2.5181      2.981     -0.845      0.400      -8.408       3.372\n",
       "Tidal_range             0.0057      0.049      0.115      0.908      -0.091       0.103\n",
       "ERODIBILITY             0.0787      0.069      1.146      0.253      -0.057       0.214\n",
       "TEMP_MOISTURE           0.0510      0.109      0.466      0.642      -0.165       0.267\n",
       "EMU_PHYSICAL           -0.0763      0.031     -2.492      0.014      -0.137      -0.016\n",
       "==============================================================================\n",
       "Omnibus:                       10.509   Durbin-Watson:                   1.725\n",
       "Prob(Omnibus):                  0.005   Jarque-Bera (JB):               10.776\n",
       "Skew:                           0.535   Prob(JB):                      0.00457\n",
       "Kurtosis:                       3.584   Cond. No.                     1.90e+09\n",
       "==============================================================================\n",
       "\n",
       "Notes:\n",
       "[1] Standard Errors assume that the covariance matrix of the errors is correctly specified.\n",
       "[2] The condition number is large, 1.9e+09. This might indicate that there are\n",
       "strong multicollinearity or other numerical problems.\n",
       "\"\"\""
      ]
     },
     "execution_count": 148,
     "metadata": {},
     "output_type": "execute_result"
    }
   ],
   "source": [
    "model_lr.summary()"
   ]
  },
  {
   "cell_type": "code",
   "execution_count": 40,
   "id": "c3e3d83f-79a9-46e0-8a0b-59c6d2f7f2bf",
   "metadata": {},
   "outputs": [
    {
     "data": {
      "image/png": "[encoded data removed]",
      "text/plain": [
       "<Figure size 800x600 with 4 Axes>"
      ]
     },
     "metadata": {},
     "output_type": "display_data"
    }
   ],
   "source": [
    "fig = plt.figure(figsize = (8,6))\n",
    "sm.graphics.plot_regress_exog(model_lr, 'soil_silt_pc', fig = fig)\n",
    "plt.show()"
   ]
  },
  {
   "cell_type": "code",
   "execution_count": 127,
   "id": "772fbe1e-a031-4634-b1b8-fdd66ee216c6",
   "metadata": {},
   "outputs": [
    {
     "data": {
      "image/png": "[encoded data removed]",
      "text/plain": [
       "<Figure size 800x400 with 2 Axes>"
      ]
     },
     "metadata": {},
     "output_type": "display_data"
    }
   ],
   "source": [
    "#create residual vs. predictor plot for 'assists'\n",
    "#import matplotlib.lines as mlines\n",
    "#import matplotlib.transforms as mtransforms\n",
    "\n",
    "fig, (ax1, ax2)=plt.subplots(1, 2, figsize=(8,4))\n",
    "sns.scatterplot(x = y, y = res, color=\"g\", ax = ax1)\n",
    "plt.ylabel('residuals')\n",
    "plt.xlabel('y')\n",
    "\n",
    "from statsmodels.api import qqplot\n",
    "sm.qqplot(res, line = '45', fit = True, ax = ax2) \n",
    "plt.show()\n",
    "\n",
    "plt.show()\n",
    "#"
   ]
  },
  {
   "cell_type": "code",
   "execution_count": 133,
   "id": "36dab7d9-42b6-433a-bc68-aba258aa3fca",
   "metadata": {},
   "outputs": [],
   "source": [
    "import scipy.stats as stats"
   ]
  },
  {
   "cell_type": "code",
   "execution_count": 146,
   "id": "6777996a-cfe2-479a-ac47-fe93025db293",
   "metadata": {},
   "outputs": [
    {
     "data": {
      "image/png": "[encoded data removed]",
      "text/plain": [
       "<Figure size 1200x600 with 4 Axes>"
      ]
     },
     "metadata": {},
     "output_type": "display_data"
    }
   ],
   "source": [
    "influence = model_lr.get_influence()\n",
    "\n",
    "res = df.copy()\n",
    "res['resid'] = model_lr.resid\n",
    "res['fittedvalues'] = model_lr.fittedvalues\n",
    "res['resid_std'] = model_lr.resid_pearson\n",
    "res['leverage'] = influence.hat_matrix_diag\n",
    "\n",
    "fig, ((ax1,ax2),(ax3,ax4)) = plt.subplots(2,2, figsize = (12,6))\n",
    "#plt.style.use('seaborn')\n",
    "\n",
    "# Residual against fitted values.\n",
    "sns.scatterplot(\n",
    "    data = res,\n",
    "    x='fittedvalues', \n",
    "    y='resid', \n",
    "    ax = ax1\n",
    ")\n",
    "ax1.axhline(y=0, color='grey', linestyle='dashed')\n",
    "ax1.set_xlabel('Fitted Values')\n",
    "ax1.set_ylabel('Residuals')\n",
    "ax1.set_title('Residuals vs Fitted')\n",
    "\n",
    "# qqplot\n",
    "sm.qqplot(\n",
    "    res['resid'], dist=stats.t, fit=True, line='45',\n",
    "    ax=ax2\n",
    ")\n",
    "ax2.set_title('Normal Q-Q')\n",
    "\n",
    "# The scale-location plot.\n",
    "sns.scatterplot(data = res,\n",
    "    x='fittedvalues', y='resid_std', ax=ax3\n",
    ")\n",
    "ax3.axhline(y=0, color='grey', linestyle='dashed')\n",
    "ax3.set_xlabel('Fitted values')\n",
    "ax3.set_ylabel('Sqrt(|standardized residuals|)')\n",
    "ax3.set_title('Scale-Location')\n",
    "\n",
    "# # Standardized residuals vs. leverage\n",
    "sns.scatterplot(data = res,\n",
    "    x='leverage', y='resid_std', ax=ax4\n",
    ")\n",
    "ax4.axhline(y=0, color='grey', linestyle='dashed')\n",
    "ax4.set_xlabel('Leverage')\n",
    "ax4.set_ylabel('Sqrt(|standardized residuals|)')\n",
    "ax4.set_title('Residuals vs Leverage')\n",
    "\n",
    "plt.tight_layout()\n",
    "plt.show()"
   ]
  },
  {
   "cell_type": "markdown",
   "id": "15cc682f-8191-4f18-a559-3cf2e33a64c7",
   "metadata": {},
   "source": [
    "Standard error of the coefficients can be used to measure the reliability of a variables contribution to a model"
   ]
  },
  {
   "cell_type": "code",
   "execution_count": null,
   "id": "44cbfaef-b3dc-442c-8781-5e191ba4f345",
   "metadata": {},
   "outputs": [],
   "source": []
  },
  {
   "cell_type": "markdown",
   "id": "a5989493-0615-43bf-81b7-2f308f58aab3",
   "metadata": {
    "tags": []
   },
   "source": [
    "## Stepwise regression \n",
    "to determine which variables should be included in the model...."
   ]
  },
  {
   "cell_type": "markdown",
   "id": "7259103c-4fec-4c41-87c4-614712f89e4f",
   "metadata": {
    "tags": []
   },
   "source": [
    "### Model selection: Forward Stepwise Regression\n",
    "\n",
    "Starting with no covariates, add variables one at a time, trying to minimise the score.\n",
    "For no particular reason, I am choosing to minimise Bayesian Information. BIC tends to choose models with fewer parameters than AIC."
   ]
  },
  {
   "cell_type": "code",
   "execution_count": 130,
   "id": "8615e488-0d71-4862-abc8-c05ac4bfddbb",
   "metadata": {},
   "outputs": [
    {
     "data": {
      "text/html": [
       "<table class=\"simpletable\">\n",
       "<caption>OLS Regression Results</caption>\n",
       "<tr>\n",
       "  <th>Dep. Variable:</th>      <td>Cstock25_Mgha</td>  <th>  R-squared (uncentered):</th>      <td>   0.630</td>\n",
       "</tr>\n",
       "<tr>\n",
       "  <th>Model:</th>                   <td>OLS</td>       <th>  Adj. R-squared (uncentered):</th> <td>   0.624</td>\n",
       "</tr>\n",
       "<tr>\n",
       "  <th>Method:</th>             <td>Least Squares</td>  <th>  F-statistic:       </th>          <td>   97.17</td>\n",
       "</tr>\n",
       "<tr>\n",
       "  <th>Date:</th>             <td>Thu, 17 Aug 2023</td> <th>  Prob (F-statistic):</th>          <td>9.45e-37</td>\n",
       "</tr>\n",
       "<tr>\n",
       "  <th>Time:</th>                 <td>16:44:01</td>     <th>  Log-Likelihood:    </th>          <td> -758.48</td>\n",
       "</tr>\n",
       "<tr>\n",
       "  <th>No. Observations:</th>      <td>   174</td>      <th>  AIC:               </th>          <td>   1523.</td>\n",
       "</tr>\n",
       "<tr>\n",
       "  <th>Df Residuals:</th>          <td>   171</td>      <th>  BIC:               </th>          <td>   1532.</td>\n",
       "</tr>\n",
       "<tr>\n",
       "  <th>Df Model:</th>              <td>     3</td>      <th>                     </th>              <td> </td>   \n",
       "</tr>\n",
       "<tr>\n",
       "  <th>Covariance Type:</th>      <td>nonrobust</td>    <th>                     </th>              <td> </td>   \n",
       "</tr>\n",
       "</table>\n",
       "<table class=\"simpletable\">\n",
       "<tr>\n",
       "           <td></td>              <th>coef</th>     <th>std err</th>      <th>t</th>      <th>P>|t|</th>  <th>[0.025</th>    <th>0.975]</th>  \n",
       "</tr>\n",
       "<tr>\n",
       "  <th>PAR_mean</th>            <td>    0.1324</td> <td>    0.072</td> <td>    1.848</td> <td> 0.066</td> <td>   -0.009</td> <td>    0.274</td>\n",
       "</tr>\n",
       "<tr>\n",
       "  <th>GHM</th>                 <td>   24.0641</td> <td>    6.657</td> <td>    3.615</td> <td> 0.000</td> <td>   10.923</td> <td>   37.205</td>\n",
       "</tr>\n",
       "<tr>\n",
       "  <th>MEAN_SIG_WAVEHEIGHT</th> <td>    6.9357</td> <td>    2.414</td> <td>    2.873</td> <td> 0.005</td> <td>    2.170</td> <td>   11.701</td>\n",
       "</tr>\n",
       "</table>\n",
       "<table class=\"simpletable\">\n",
       "<tr>\n",
       "  <th>Omnibus:</th>       <td>80.309</td> <th>  Durbin-Watson:     </th> <td>   1.757</td>\n",
       "</tr>\n",
       "<tr>\n",
       "  <th>Prob(Omnibus):</th> <td> 0.000</td> <th>  Jarque-Bera (JB):  </th> <td> 244.775</td>\n",
       "</tr>\n",
       "<tr>\n",
       "  <th>Skew:</th>          <td> 1.941</td> <th>  Prob(JB):          </th> <td>7.04e-54</td>\n",
       "</tr>\n",
       "<tr>\n",
       "  <th>Kurtosis:</th>      <td> 7.324</td> <th>  Cond. No.          </th> <td>    281.</td>\n",
       "</tr>\n",
       "</table><br/><br/>Notes:<br/>[1] R² is computed without centering (uncentered) since the model does not contain a constant.<br/>[2] Standard Errors assume that the covariance matrix of the errors is correctly specified."
      ],
      "text/latex": [
       "\\begin{center}\n",
       "\\begin{tabular}{lclc}\n",
       "\\toprule\n",
       "\\textbf{Dep. Variable:}        &  Cstock25\\_Mgha  & \\textbf{  R-squared (uncentered):}      &     0.630   \\\\\n",
       "\\textbf{Model:}                &       OLS        & \\textbf{  Adj. R-squared (uncentered):} &     0.624   \\\\\n",
       "\\textbf{Method:}               &  Least Squares   & \\textbf{  F-statistic:       }          &     97.17   \\\\\n",
       "\\textbf{Date:}                 & Thu, 17 Aug 2023 & \\textbf{  Prob (F-statistic):}          &  9.45e-37   \\\\\n",
       "\\textbf{Time:}                 &     16:44:01     & \\textbf{  Log-Likelihood:    }          &   -758.48   \\\\\n",
       "\\textbf{No. Observations:}     &         174      & \\textbf{  AIC:               }          &     1523.   \\\\\n",
       "\\textbf{Df Residuals:}         &         171      & \\textbf{  BIC:               }          &     1532.   \\\\\n",
       "\\textbf{Df Model:}             &           3      & \\textbf{                     }          &             \\\\\n",
       "\\textbf{Covariance Type:}      &    nonrobust     & \\textbf{                     }          &             \\\\\n",
       "\\bottomrule\n",
       "\\end{tabular}\n",
       "\\begin{tabular}{lcccccc}\n",
       "                               & \\textbf{coef} & \\textbf{std err} & \\textbf{t} & \\textbf{P$> |$t$|$} & \\textbf{[0.025} & \\textbf{0.975]}  \\\\\n",
       "\\midrule\n",
       "\\textbf{PAR\\_mean}             &       0.1324  &        0.072     &     1.848  &         0.066        &       -0.009    &        0.274     \\\\\n",
       "\\textbf{GHM}                   &      24.0641  &        6.657     &     3.615  &         0.000        &       10.923    &       37.205     \\\\\n",
       "\\textbf{MEAN\\_SIG\\_WAVEHEIGHT} &       6.9357  &        2.414     &     2.873  &         0.005        &        2.170    &       11.701     \\\\\n",
       "\\bottomrule\n",
       "\\end{tabular}\n",
       "\\begin{tabular}{lclc}\n",
       "\\textbf{Omnibus:}       & 80.309 & \\textbf{  Durbin-Watson:     } &    1.757  \\\\\n",
       "\\textbf{Prob(Omnibus):} &  0.000 & \\textbf{  Jarque-Bera (JB):  } &  244.775  \\\\\n",
       "\\textbf{Skew:}          &  1.941 & \\textbf{  Prob(JB):          } & 7.04e-54  \\\\\n",
       "\\textbf{Kurtosis:}      &  7.324 & \\textbf{  Cond. No.          } &     281.  \\\\\n",
       "\\bottomrule\n",
       "\\end{tabular}\n",
       "%\\caption{OLS Regression Results}\n",
       "\\end{center}\n",
       "\n",
       "Notes: \\newline\n",
       " [1] R² is computed without centering (uncentered) since the model does not contain a constant. \\newline\n",
       " [2] Standard Errors assume that the covariance matrix of the errors is correctly specified."
      ],
      "text/plain": [
       "<class 'statsmodels.iolib.summary.Summary'>\n",
       "\"\"\"\n",
       "                                 OLS Regression Results                                \n",
       "=======================================================================================\n",
       "Dep. Variable:          Cstock25_Mgha   R-squared (uncentered):                   0.630\n",
       "Model:                            OLS   Adj. R-squared (uncentered):              0.624\n",
       "Method:                 Least Squares   F-statistic:                              97.17\n",
       "Date:                Thu, 17 Aug 2023   Prob (F-statistic):                    9.45e-37\n",
       "Time:                        16:44:01   Log-Likelihood:                         -758.48\n",
       "No. Observations:                 174   AIC:                                      1523.\n",
       "Df Residuals:                     171   BIC:                                      1532.\n",
       "Df Model:                           3                                                  \n",
       "Covariance Type:            nonrobust                                                  \n",
       "=======================================================================================\n",
       "                          coef    std err          t      P>|t|      [0.025      0.975]\n",
       "---------------------------------------------------------------------------------------\n",
       "PAR_mean                0.1324      0.072      1.848      0.066      -0.009       0.274\n",
       "GHM                    24.0641      6.657      3.615      0.000      10.923      37.205\n",
       "MEAN_SIG_WAVEHEIGHT     6.9357      2.414      2.873      0.005       2.170      11.701\n",
       "==============================================================================\n",
       "Omnibus:                       80.309   Durbin-Watson:                   1.757\n",
       "Prob(Omnibus):                  0.000   Jarque-Bera (JB):              244.775\n",
       "Skew:                           1.941   Prob(JB):                     7.04e-54\n",
       "Kurtosis:                       7.324   Cond. No.                         281.\n",
       "==============================================================================\n",
       "\n",
       "Notes:\n",
       "[1] R² is computed without centering (uncentered) since the model does not contain a constant.\n",
       "[2] Standard Errors assume that the covariance matrix of the errors is correctly specified.\n",
       "\"\"\""
      ]
     },
     "execution_count": 130,
     "metadata": {},
     "output_type": "execute_result"
    }
   ],
   "source": [
    "import numpy as np #for inf\n",
    "\n",
    "variables = list(X.columns)\n",
    "min_bic = np.inf;\n",
    "min_variables = None\n",
    "forward_variables = []\n",
    "\n",
    "while len(variables): #while there is something to add\n",
    "    added = None;     #the variable added this turn (or None)\n",
    "    for v in variables:\n",
    "        model = sm.OLS(y, X[ forward_variables + [v] ]).fit() #fit the model\n",
    "        if model.bic < min_bic: #check for improvement, record the new best if there is one\n",
    "            min_variables = forward_variables + [v]\n",
    "            min_bic = model.bic\n",
    "            added = v;\n",
    "\n",
    "    if len(min_variables) == len(forward_variables): break; #no change in best\n",
    "    forward_variables = min_variables; #start from best so far for next iteration\n",
    "    variables.remove(added)            #don't check stuff we've already added!\n",
    "    \n",
    "    \n",
    "model = sm.OLS(y, X[ min_variables ]).fit()\n",
    "model.summary()"
   ]
  },
  {
   "cell_type": "code",
   "execution_count": null,
   "id": "f1937c0d-7081-4a88-b2cf-ba34b8983a77",
   "metadata": {},
   "outputs": [],
   "source": [
    "min_variables"
   ]
  },
  {
   "cell_type": "markdown",
   "id": "ed2b6a5d-0dbe-4c52-bdca-cb14bc0b162c",
   "metadata": {},
   "source": [
    "### Model selection: Backwards Stepwise Regression\n",
    "\n",
    "Starting with all the covariates, remove variables one at a time, trying to minimise the score."
   ]
  },
  {
   "cell_type": "code",
   "execution_count": null,
   "id": "1bded2b4-74f9-4e68-b6d5-ce1eb7bfbdfa",
   "metadata": {},
   "outputs": [],
   "source": [
    "variables = list(X.columns)\n",
    "\n",
    "backward_variables = variables\n",
    "\n",
    "model = sm.OLS(y, X[ backward_variables ]).fit()\n",
    "min_bic = model.bic;\n",
    "min_variables = backward_variables\n",
    "\n",
    "while len(variables): #while there is something to add\n",
    "    print(backward_variables)\n",
    "    removed = None;     #the variable added this turn (or None)\n",
    "    for v in backward_variables:\n",
    "        mvar = [w for w in backward_variables if w!=v]\n",
    "        model = sm.OLS(y, X[ mvar ]).fit() #fit the model\n",
    "        if model.bic < min_bic: #check for improvement, record the new best if there is one\n",
    "            min_variables = mvar\n",
    "            min_bic = model.bic\n",
    "            removed = v;\n",
    "\n",
    "    if len(min_variables) == len(backward_variables): break; #no change in best\n",
    "    backward_variables = min_variables; #start from best so far for next iteration\n",
    "    variables.remove(removed)            #don't check stuff we've already added!\n",
    "\n",
    "model = sm.OLS(y, X[ min_variables ]).fit()\n",
    "model.summary()"
   ]
  },
  {
   "cell_type": "markdown",
   "id": "cdb8885b-eb7a-43ae-8384-95456870571d",
   "metadata": {},
   "source": [
    "### Model selection: Other Optimisers\n",
    "\n",
    "The forward and backward procedures are greedy optimisers, greedy search is usually not the best. You are trying to minimise some function (Bayesian information) so try some other __[Optimiser](https://docs.scipy.org/doc/scipy/reference/optimize.html)__ . The optimiser has to be a very general one because computing the derivatives to too hard! \n",
    "\n",
    "I'm going to do a trick where I represent a list of variables as a binary number of fixed width so e.g.<br>\n",
    "['RM', 'LSTAT', 'CHAS', 'NOX', 'AGE']<br>\n",
    "v = 0 1 0 0 1 1<br>\n",
    "gives ['LSTAT', 'NOX', 'AGE']\n",
    "\n",
    "Let's try with more variables and a fancy optimisation algorithm called basin hopping..."
   ]
  },
  {
   "cell_type": "code",
   "execution_count": null,
   "id": "bcfb2862-c571-417b-a780-4d4ff847c076",
   "metadata": {},
   "outputs": [],
   "source": [
    "from scipy.optimize import basinhopping\n",
    "\n",
    "variables = list(X.columns)\n",
    "\n",
    "def func(v):\n",
    "    if sum(v) == 0: return 10e10;\n",
    "    model = sm.OLS(y, X[ [var for i,var in enumerate(variables) if v[i] > 0.4] ]).fit()\n",
    "    return model.bic\n",
    "      \n",
    "class MyStep:\n",
    "   def __init__(self, stepsize=0.5):\n",
    "       self.rng = np.random.default_rng()\n",
    "       self.M = len(variables) \n",
    "   def __call__(self, x):\n",
    "       idx = self.rng.integers(0,high=self.M)\n",
    "       x[idx] = 1 - x[idx]\n",
    "       return x\n",
    "\n",
    "v0 = np.ones( len(variables), dtype=np.int8 )\n",
    "\n",
    "minimizer_kwargs = {\"method\": \"BFGS\"}\n",
    "mystep = MyStep()\n",
    "print(\"basin_hopping...\")\n",
    "ret = basinhopping(func, v0, minimizer_kwargs=minimizer_kwargs, niter=200, take_step=mystep)\n",
    "\n",
    "min_variables = [var for i,var in enumerate(variables) if ret.x[i] > 0.5]\n",
    "model = sm.OLS(y, X[ min_variables ]).fit()\n",
    "model.summary()"
   ]
  },
  {
   "cell_type": "markdown",
   "id": "5d684682-4161-4ab9-bdc8-7e5c4b5aef3c",
   "metadata": {},
   "source": [
    "### Zheng-Loh Model Selection\n",
    "\n",
    "Simple and it's supposed to work. Zheng and Loh showed that, under appropriate conditions, this method\n",
    "chooses the true model with probability tending to one as the sample size increases.\n",
    "\n",
    "1. Fit everything and compute the Wald test statistic for H0 : $c_j = 0$ versus H1 : $c_j = 0$ (I think this is more or less just the t score???)\n",
    "2. Sort"
   ]
  },
  {
   "cell_type": "code",
   "execution_count": null,
   "id": "14006a4b-bc85-4770-b0e7-6db5ed546851",
   "metadata": {},
   "outputs": [],
   "source": [
    "variables = list(X.columns)\n",
    "model = sm.OLS(y, X[ variables ]).fit()\n",
    "\n",
    "sigma_2 = model.mse_resid\n",
    "def zheng_loh_score(v):\n",
    "    m = sm.OLS(y, X[ v ]).fit()\n",
    "    #print(m.ssr, len(v)*sigma_2*np.log(m.nobs), len(v), sigma_2, m.nobs)\n",
    "    return m.ssr + len(v)*m.mse_resid*np.log(m.nobs)\n",
    "\n",
    "min_zl = np.inf;\n",
    "min_variables = []\n",
    "zl_variables = []\n",
    "for col, t in model.tvalues.abs().sort_values(ascending=False).items(): \n",
    "    zl_score = zheng_loh_score(zl_variables + [col])\n",
    "\n",
    "    if zl_score < min_zl:\n",
    "        min_zl = zl_score\n",
    "        min_variables = [v for v in zl_variables] + [col]\n",
    "        \n",
    "    zl_variables += [col]\n",
    "\n",
    "model = sm.OLS(y, X[ min_variables ]).fit()\n",
    "model.summary()"
   ]
  },
  {
   "cell_type": "code",
   "execution_count": null,
   "id": "a0c1ddbb-4631-4b0d-b115-f85ccd01d29a",
   "metadata": {},
   "outputs": [],
   "source": [
    "min_variables"
   ]
  },
  {
   "cell_type": "code",
   "execution_count": null,
   "id": "ba3fdf96-9f2a-4031-9d5b-2ea4adbcb3a3",
   "metadata": {},
   "outputs": [],
   "source": []
  },
  {
   "cell_type": "markdown",
   "id": "786edde4-5d9b-4540-ae23-49f36cebcf95",
   "metadata": {
    "tags": []
   },
   "source": [
    "## Run Boosted Regression Tree"
   ]
  },
  {
   "cell_type": "code",
   "execution_count": null,
   "id": "7a6715c4-89cc-428f-ba05-934924e456d7",
   "metadata": {},
   "outputs": [],
   "source": [
    "from sklearn.metrics import mean_squared_error as MSE"
   ]
  },
  {
   "cell_type": "code",
   "execution_count": null,
   "id": "a2e6416c-5b1f-472f-a260-e0d8ea112a34",
   "metadata": {},
   "outputs": [],
   "source": [
    "#create the empty model\n",
    "reg = GradientBoostingRegressor(n_estimators  = 20, \n",
    "                                max_depth = 5, \n",
    "                                learning_rate = 0.1, \n",
    "                                min_samples_split = 2)\n",
    "#fit the model\n",
    "reg.fit(X_train, y_train)\n",
    "# predict the test-set \n",
    "y_pred = reg.predict(X_test)\n",
    "#compute test-set labels\n",
    "mse = MSE(y_test, y_pred)\n",
    "rmse = mse**(1/2)\n",
    "print('The RMSE (root of the squared mean error is', rmse)\n",
    "print('accuracy on training set: {:.3f}'.format(reg.score(X_train, y_train)))\n",
    "print('accuracy on test set: {:.3f}'.format(reg.score(X_test, y_test)))"
   ]
  },
  {
   "cell_type": "markdown",
   "id": "009832c1-9db2-418f-b0c3-64cddb5a7b89",
   "metadata": {},
   "source": [
    "THe RMSE measures on average how much the models predictions differ from the actual labels"
   ]
  },
  {
   "cell_type": "markdown",
   "id": "96352007-c088-4565-b11d-75d65e6a640e",
   "metadata": {},
   "source": [
    "Tuning the parameters (max_depth up to 5 max, n_estimateors, learning rate) to have a high accuracy on training set with a high accuracy on test set - current looks like overfitting on training set and poor fit on test set. "
   ]
  },
  {
   "cell_type": "code",
   "execution_count": null,
   "id": "a9bebe16-c2ba-4143-bc66-2bfc61648ac5",
   "metadata": {},
   "outputs": [],
   "source": [
    "## Increase max depth\n",
    "reg3 = GradientBoostingRegressor(n_estimators  = 200, #number of trees\n",
    "                                max_depth = 3,  #max leaf nodes\n",
    "                                learning_rate = 0.3,  #the degree to which each tree is allowed to correct the mistakes of the previous trees\n",
    "                                min_samples_split = 3)\n",
    "#learning rate and n_estimators are interconnected\n",
    "#lower learning rate means more trees are needed to build a model of similar complexity\n",
    "\n",
    "#fit the model\n",
    "reg3.fit(X_train, y_train)\n",
    "# predict the test-set \n",
    "y_pred3 = reg3.predict(X_test)\n",
    "#compute test-set labels\n",
    "mse = MSE(y_test, y_pred3)\n",
    "rmse = mse**(1/2)\n",
    "print('The RMSE (root of the squared mean error is', rmse)"
   ]
  },
  {
   "cell_type": "code",
   "execution_count": null,
   "id": "508ec6d6-fecf-4232-b1ac-c7758bb4125c",
   "metadata": {},
   "outputs": [],
   "source": [
    "print('accuracy on training set: {:.3f}'.format(reg.score(X_train, y_train)))\n",
    "print('accuracy on test set: {:.3f}'.format(reg.score(X_test, y_test)))"
   ]
  },
  {
   "cell_type": "markdown",
   "id": "8c77718d-2dbc-47ca-a552-e85ae1581022",
   "metadata": {},
   "source": [
    "#### Tuning other parameters for comparison"
   ]
  },
  {
   "cell_type": "code",
   "execution_count": null,
   "id": "361de043-b779-424a-bff1-b12f2545052e",
   "metadata": {},
   "outputs": [],
   "source": [
    "## Increase max depth\n",
    "reg8 = GradientBoostingRegressor(n_estimators  = 100, \n",
    "                                max_depth = 2, \n",
    "                                learning_rate = 0.3, \n",
    "                                min_samples_split = 10)\n",
    "#fit the model\n",
    "reg8.fit(X_train, y_train)\n",
    "# predict the test-set \n",
    "y_pred8 = reg8.predict(X_test)\n",
    "#compute test-set labels\n",
    "mse = MSE(y_test, y_pred8)\n",
    "rmse = mse**(1/2)\n",
    "print('The RMSE (root of the squared mean error is', rmse)"
   ]
  },
  {
   "cell_type": "code",
   "execution_count": null,
   "id": "547fc1a9-ef60-494f-b082-f77d8eace765",
   "metadata": {},
   "outputs": [],
   "source": [
    "#r2 score for the model (on the test data)\n",
    "reg.score(X_test, y_test)"
   ]
  },
  {
   "cell_type": "code",
   "execution_count": null,
   "id": "a254d04d-f743-4667-9583-2a617d286612",
   "metadata": {},
   "outputs": [],
   "source": [
    "print('accuracy on training set: {:.3f}'.format(reg.score(X_train, y_train)))\n",
    "print('accuracy on test set: {:.3f}'.format(reg.score(X_test, y_test)))"
   ]
  },
  {
   "cell_type": "markdown",
   "id": "3b9c1d3f-07b0-4c69-ae9f-d2df3b31878f",
   "metadata": {},
   "source": [
    "### Determine the features importance"
   ]
  },
  {
   "cell_type": "code",
   "execution_count": null,
   "id": "02075eba-0430-43fa-9e96-35497d1939ca",
   "metadata": {},
   "outputs": [],
   "source": [
    "from sklearn.inspection import permutation_importance\n",
    "feature_importance = reg.feature_importances_\n",
    "sorted_idx = np.argsort(feature_importance)\n",
    "pos = np.arange(sorted_idx.shape[0])+ .5\n",
    "\n",
    "fig = plt.figure(figsize = (16,8))\n",
    "plt.barh(pos, feature_importance[sorted_idx], align = 'center')\n",
    "plt.yticks(pos, np.array(X.columns)[sorted_idx])\n",
    "plt.title('Feature Importance')\n",
    "result = permutation_importance(reg, X_test, y_test, n_repeats = 100, random_state = 42, n_jobs = 2)\n",
    "sorted_idx = result.importances_mean.argsort()\n",
    "fig.tight_layout()\n",
    "plt.show()"
   ]
  },
  {
   "cell_type": "markdown",
   "id": "0289fed3-cca2-497a-85e5-d7e114501f6f",
   "metadata": {
    "tags": []
   },
   "source": [
    "## Run Random Forest"
   ]
  },
  {
   "cell_type": "code",
   "execution_count": null,
   "id": "e1d26260-74a4-44b8-a57b-a43b7b71295c",
   "metadata": {},
   "outputs": [],
   "source": [
    "#import Random Forest model\n",
    "from sklearn.ensemble import RandomForestRegressor"
   ]
  },
  {
   "cell_type": "code",
   "execution_count": null,
   "id": "1c1d3e90-9675-4fdd-9802-fba760c8ea94",
   "metadata": {},
   "outputs": [],
   "source": [
    "from sklearn.tree import DecisionTreeRegressor"
   ]
  },
  {
   "cell_type": "code",
   "execution_count": null,
   "id": "c32e1b43-a904-473f-b3fb-94750ad70c1d",
   "metadata": {},
   "outputs": [],
   "source": [
    "#split into train and test datasets\n",
    "X_train, X_test, y_train, y_test = train_test_split(X, y, test_size = 0.2, random_state=42)"
   ]
  },
  {
   "cell_type": "code",
   "execution_count": null,
   "id": "1e32492a-595a-4aef-a5a6-9bce0adce6bf",
   "metadata": {},
   "outputs": [],
   "source": [
    "#Create a Gaussian Classifier\n",
    "regr = DecisionTreeRegressor(max_depth = 5, min_samples_leaf = 3, random_state =156)\n",
    "#Train the model using the training sets\n",
    "regr.fit(X_train, y_train)\n",
    "#y_pred = regr.predict(X_test)"
   ]
  },
  {
   "cell_type": "code",
   "execution_count": null,
   "id": "414691e2-b7f0-47e1-a352-ad7ea6a42cc8",
   "metadata": {},
   "outputs": [],
   "source": [
    "#error score\n",
    "#print('MAE: ', mean_absolute_error(y_test, y_pred))\n",
    "#print('MSE: ', mean_squared_error(y_test, y_pred)) \n",
    "#lower error the better :-("
   ]
  },
  {
   "cell_type": "code",
   "execution_count": null,
   "id": "5dc62f78-01c1-4358-b09a-5821ce5460d9",
   "metadata": {},
   "outputs": [],
   "source": [
    "regr.score(X, y)"
   ]
  },
  {
   "cell_type": "code",
   "execution_count": null,
   "id": "367ed01e-d9b3-41c7-b9da-36e0340724d8",
   "metadata": {},
   "outputs": [],
   "source": [
    "regr.score(X_train, y_train)"
   ]
  },
  {
   "cell_type": "code",
   "execution_count": null,
   "id": "7ce11225-74b1-44a4-b914-2696d9e5b444",
   "metadata": {},
   "outputs": [],
   "source": [
    "regr.score(X_test, y_test)"
   ]
  },
  {
   "cell_type": "code",
   "execution_count": null,
   "id": "1f277d80-9d60-4a0b-8afd-ae7f71ef2ec1",
   "metadata": {},
   "outputs": [],
   "source": [
    "X.columns"
   ]
  },
  {
   "cell_type": "code",
   "execution_count": null,
   "id": "15faa81a-768b-4131-a81f-f7a4dcf9656a",
   "metadata": {},
   "outputs": [],
   "source": [
    "from sklearn import tree\n",
    "print(tree.export_text(regr))"
   ]
  },
  {
   "cell_type": "code",
   "execution_count": null,
   "id": "16ff056e-6aab-45c3-a23f-de4b0ff946a6",
   "metadata": {},
   "outputs": [],
   "source": [
    "from sklearn.tree import export_graphviz\n",
    "export_graphviz(\n",
    "    regr,\n",
    "    out_file = \"random_tree.dot\",\n",
    "    rounded = True,\n",
    "    filled = True)"
   ]
  },
  {
   "cell_type": "markdown",
   "id": "996c5f4b-737d-493a-b4ae-0ffa761595d7",
   "metadata": {},
   "source": [
    "## Choose best parameters with GridSearch"
   ]
  },
  {
   "cell_type": "code",
   "execution_count": null,
   "id": "9b594e71-64ed-48a6-bdae-853e3b826141",
   "metadata": {},
   "outputs": [],
   "source": [
    "from sklearn.model_selection import GridSearchCV"
   ]
  },
  {
   "cell_type": "code",
   "execution_count": null,
   "id": "93c4c451-1a56-4383-bc78-36238fe50da6",
   "metadata": {
    "tags": []
   },
   "outputs": [],
   "source": [
    "#Import scikit_learn metrics module for accuracy calculation\n",
    "from sklearn import metrics\n",
    "from sklearn.ensemble import RandomForestRegressor\n",
    "from sklearn.model_selection import GridSearchCV\n",
    "\n",
    "param_grid = [\n",
    "    {'n_estimators':[2,3,4,6,8,9,10,12], 'max_features':[2,4,6,8,9,10]},\n",
    "    {'bootstrap':[False], 'n_estimators':[3,10,15,20], 'max_features': [2,3,4]},\n",
    "    #{'n_estimators':[3,10,15,20], 'max_features': [2,3,4], 'min_samples_leaf': [2,3,4,5,6,7], 'max_depth' : [2,3,4,5,6]},\n",
    "]\n",
    "\n",
    "forest_reg = RandomForestRegressor()\n",
    "\n",
    "grid_search = GridSearchCV(forest_reg, param_grid, cv=5,\n",
    "                           scoring = 'neg_mean_squared_error',\n",
    "                           return_train_score = True)\n",
    "\n",
    "grid_search.fit(X, y)\n"
   ]
  },
  {
   "cell_type": "code",
   "execution_count": null,
   "id": "6848b76e-8ec4-4cce-9df5-0805f077d471",
   "metadata": {},
   "outputs": [],
   "source": [
    "grid_search.best_params_"
   ]
  },
  {
   "cell_type": "code",
   "execution_count": null,
   "id": "bc773230-7620-4c34-81bd-005d6a9765d0",
   "metadata": {},
   "outputs": [],
   "source": [
    "grid_search.best_estimator_"
   ]
  },
  {
   "cell_type": "code",
   "execution_count": null,
   "id": "1e61f4a7-750c-4532-ae4d-b580747e9a42",
   "metadata": {},
   "outputs": [],
   "source": [
    "cvres = grid_search.cv_results_\n",
    "for mean_score, params in zip(cvres['mean_test_score'], cvres['params']):\n",
    "    pass\n",
    "    #print(np.sqrt(-mean_score), params)"
   ]
  },
  {
   "cell_type": "code",
   "execution_count": null,
   "id": "6f8d5508-3325-492b-a003-39bcba6060f1",
   "metadata": {},
   "outputs": [],
   "source": [
    "from scipy import stats\n",
    "stats.describe(y)"
   ]
  },
  {
   "cell_type": "code",
   "execution_count": null,
   "id": "cdfdbffd-5ccf-4dff-b733-97e3fd6dec4d",
   "metadata": {},
   "outputs": [],
   "source": [
    "#Create a Gaussian Classifier\n",
    "forest_reg = RandomForestRegressor(n_estimators = 9, \n",
    "                                   max_features = 4, \n",
    "                                   #max_depth = 4, \n",
    "                                   #min_samples_leaf = 7, \n",
    "                                   random_state =42)\n",
    "#Train the model using the training sets\n",
    "forest = forest_reg.fit(X_train, y_train)\n",
    "sg_predictions = forest.predict(X_test)\n",
    "sg_mse = mean_squared_error(y_test, sg_predictions)\n",
    "sg_rmse = np.sqrt(sg_mse)\n",
    "r2_all = forest.score(X, y)\n",
    "r2 = forest.score(X_train,y_train)\n",
    "r2_test = forest.score(X_test, y_test)\n",
    "print('RMSE: ', sg_rmse)\n",
    "print('R2 on whole dataset: ', r2_all)\n",
    "print('R2 on train set: ', r2)\n",
    "print('R2 on test set: ', r2_test)"
   ]
  },
  {
   "cell_type": "code",
   "execution_count": null,
   "id": "3bf0c673-5a4f-49a9-a7a6-45f840f8e4e3",
   "metadata": {},
   "outputs": [],
   "source": [
    "#relative importance of each attribute\n",
    "feature_importances = grid_search.best_estimator_.feature_importances_\n",
    "feature_importances"
   ]
  },
  {
   "cell_type": "code",
   "execution_count": null,
   "id": "290196bc-f611-4fc5-ac49-9fedf9dbd8e7",
   "metadata": {},
   "outputs": [],
   "source": [
    "from sklearn.inspection import permutation_importance\n",
    "sorted_idx = np.argsort(feature_importances)\n",
    "pos = np.arange(sorted_idx.shape[0])+ .5\n",
    "\n",
    "fig = plt.figure(figsize = (16,8))\n",
    "plt.barh(pos, feature_importances[sorted_idx], align = 'center')\n",
    "plt.yticks(pos, np.array(X.columns)[sorted_idx])\n",
    "plt.title('Feature Importance')\n",
    "result = permutation_importance(grid_search, X, y, n_repeats = 100, random_state = 42, n_jobs = 2)\n",
    "sorted_idx = result.importances_mean.argsort()\n",
    "fig.tight_layout()\n",
    "plt.show()"
   ]
  },
  {
   "cell_type": "markdown",
   "id": "adb8b679-a96f-448b-b07e-f253f5ff1772",
   "metadata": {},
   "source": [
    "## Residual plots"
   ]
  },
  {
   "cell_type": "code",
   "execution_count": null,
   "id": "e6baf72e-21ba-4712-91ce-46d2a8fd7060",
   "metadata": {},
   "outputs": [],
   "source": [
    "import dalex as dx"
   ]
  },
  {
   "cell_type": "code",
   "execution_count": null,
   "id": "8a534c90-15e3-44e3-a0b3-d76954b62387",
   "metadata": {},
   "outputs": [],
   "source": [
    "X"
   ]
  },
  {
   "cell_type": "code",
   "execution_count": null,
   "id": "09c6b165-da5f-40e9-a425-efd0c0ce4894",
   "metadata": {},
   "outputs": [],
   "source": [
    "sg_rf_exp = dx.Explainer(forest_reg, X, y, label = 'Seagrass RF Pipeline')"
   ]
  },
  {
   "cell_type": "code",
   "execution_count": null,
   "id": "3b406a50-f8cb-4b85-92f4-81f389157ad0",
   "metadata": {},
   "outputs": [],
   "source": [
    "md_rf = sg_rf_exp.model_diagnostics()\n",
    "md_rf.result"
   ]
  },
  {
   "cell_type": "code",
   "execution_count": null,
   "id": "ed3de748-08c5-4e89-a724-71a7fd8fad94",
   "metadata": {},
   "outputs": [],
   "source": [
    "import matplotlib.pyplot as plt\n",
    "fig, ax = plt.subplots(1,2, figsize = (9,3), sharey = True)\n",
    "p1 = md_rf.plot()\n",
    "p2 = md_rf.plot(variable = \"ids\", yvariable = \"abs_residuals\")"
   ]
  },
  {
   "cell_type": "markdown",
   "id": "cc802075-6921-4e25-8cf4-76b5e62c55d8",
   "metadata": {},
   "source": [
    "1. A plot of residuals versus predicted values for the random forest model 2. Absolute residuals vs indices of corresponding observations for the random forest model  "
   ]
  },
  {
   "cell_type": "code",
   "execution_count": null,
   "id": "3ae1391e-5154-47dc-9212-533bbd5a879b",
   "metadata": {},
   "outputs": [],
   "source": []
  },
  {
   "cell_type": "code",
   "execution_count": null,
   "id": "2a9bfdb8-d55c-4eb1-b8b5-e4d75b3d0b98",
   "metadata": {},
   "outputs": [],
   "source": []
  },
  {
   "cell_type": "markdown",
   "id": "8080bb97-8e45-4c21-9a92-1ee21824c590",
   "metadata": {},
   "source": [
    "## Hist Gradient Boosting Regressor"
   ]
  },
  {
   "cell_type": "code",
   "execution_count": null,
   "id": "da102f83-0942-4f57-a4fb-b72161ec6305",
   "metadata": {},
   "outputs": [],
   "source": [
    "from sklearn.compose import make_column_selector, make_column_transformer\n",
    "from sklearn.ensemble import HistGradientBoostingRegressor\n",
    "from sklearn.pipeline import make_pipeline\n",
    "from sklearn.preprocessing import OneHotEncoder"
   ]
  },
  {
   "cell_type": "code",
   "execution_count": null,
   "id": "30f634ad-1871-48a2-b60d-cbd45e79e4fd",
   "metadata": {},
   "outputs": [],
   "source": [
    "X = sg_df.drop(['Cstock25_Mgha'], axis = 1)\n",
    "y = sg_df.loc[:, 'Cstock25_Mgha']"
   ]
  },
  {
   "cell_type": "code",
   "execution_count": null,
   "id": "b7565f5b-7349-4f3c-996f-7c2707aaafa9",
   "metadata": {},
   "outputs": [],
   "source": [
    "ordinal_encoder = make_column_transformer(\n",
    "    (\n",
    "        OrdinalEncoder(handle_unknown=\"use_encoded_value\", unknown_value=np.nan),\n",
    "        make_column_selector(dtype_include=\"category\"),\n",
    "    ),\n",
    "    remainder=\"passthrough\",\n",
    "    # Use short feature names to make it easier to specify the categorical\n",
    "    # variables in the HistGradientBoostingRegressor in the next step\n",
    "    # of the pipeline.\n",
    "    verbose_feature_names_out=False,\n",
    ")"
   ]
  },
  {
   "cell_type": "code",
   "execution_count": null,
   "id": "73a7785e-82e7-41d0-83a8-e6fac6f0e5dc",
   "metadata": {},
   "outputs": [],
   "source": [
    "X_le[cat_cols] = X[cat_cols].apply(LabelEncoder().fit_transform)"
   ]
  },
  {
   "cell_type": "code",
   "execution_count": null,
   "id": "4982755d-2851-4098-8d6e-9985d67a6b13",
   "metadata": {},
   "outputs": [],
   "source": [
    "categorical_columns = X.select_dtypes(include=\"category\").columns\n",
    "X_le = X.copy()\n",
    "X_le[cat_cols] = X[cat_cols].apply(LabelEncoder().fit_transform)\n",
    "\n",
    "hist_native = make_pipeline(\n",
    "    ordinal_encoder,\n",
    "    HistGradientBoostingRegressor(\n",
    "        random_state = 42,\n",
    "        categorical_features = categorical_columns,\n",
    "    ),\n",
    ")\n",
    "\n",
    "hist_native.fit(X_le, y)"
   ]
  },
  {
   "cell_type": "code",
   "execution_count": null,
   "id": "62a11773-4567-4880-a96a-a0f30a867688",
   "metadata": {},
   "outputs": [],
   "source": [
    "scoring = \"neg_mean_absolute_percentage_error\"\n",
    "n_cv_folds = 3\n",
    "\n",
    "# define the evaluation procedure\n",
    "#cv = RepeatedStratifiedKFold(n_splits=10, n_repeats=3, random_state=1)\n",
    "# evaluate the model and collect the scores\n",
    "n_scores = cross_validate(hist_native, X_le, y, scoring=scoring, cv=n_cv_folds)\n",
    "# report performance\n",
    "#print('Accuracy: %.3f (%.3f)' % (np.mean(n_scores), np.std(n_scores)))\n",
    "print(n_scores)"
   ]
  },
  {
   "cell_type": "code",
   "execution_count": null,
   "id": "5ac8096c-066f-4a77-8885-453cf84e889e",
   "metadata": {},
   "outputs": [],
   "source": []
  },
  {
   "cell_type": "code",
   "execution_count": null,
   "id": "036e45c6-d470-4026-ba60-964d3fffb8d0",
   "metadata": {},
   "outputs": [],
   "source": []
  },
  {
   "cell_type": "code",
   "execution_count": null,
   "id": "fbf1ce34-bba5-4fb5-b21d-2457bafb9e36",
   "metadata": {},
   "outputs": [],
   "source": [
    "dropper = make_column_transformer(\n",
    "    (\"drop\", make_column_selector(dtype_include=\"category\")), remainder=\"passthrough\"\n",
    ")\n",
    "hist_dropped = make_pipeline(dropper, HistGradientBoostingRegressor(random_state=42))"
   ]
  },
  {
   "cell_type": "code",
   "execution_count": null,
   "id": "bbddad19-e33b-4c9d-8d82-5357b6b71863",
   "metadata": {},
   "outputs": [],
   "source": [
    "#### Gradient boosting estimator with one-hot-encoding\n",
    "\n",
    "one_hot_encoder = make_column_transformer(\n",
    "    (\n",
    "        OneHotEncoder(handle_unknown=\"ignore\"),\n",
    "        make_column_selector(dtype_include=\"category\"),\n",
    "    ),\n",
    "    remainder=\"passthrough\",\n",
    ")\n",
    "\n",
    "hist_one_hot = make_pipeline(\n",
    "    one_hot_encoder, HistGradientBoostingRegressor(random_state=42)\n",
    ")"
   ]
  },
  {
   "cell_type": "code",
   "execution_count": null,
   "id": "1f7db84a-09b6-46ac-b4e1-4bc2802b9ff3",
   "metadata": {},
   "outputs": [],
   "source": [
    "#### Gradient boosting estimator with ordinal encoding\n",
    "import numpy as np\n",
    "\n",
    "from sklearn.preprocessing import OrdinalEncoder\n",
    "\n",
    "ordinal_encoder = make_column_transformer(\n",
    "    (\n",
    "        OrdinalEncoder(handle_unknown=\"use_encoded_value\", unknown_value=np.nan),\n",
    "        make_column_selector(dtype_include=\"category\"),\n",
    "    ),\n",
    "    remainder=\"passthrough\",\n",
    "    # Use short feature names to make it easier to specify the categorical\n",
    "    # variables in the HistGradientBoostingRegressor in the next step\n",
    "    # of the pipeline.\n",
    "    verbose_feature_names_out=False,\n",
    ")\n",
    "\n",
    "hist_ordinal = make_pipeline(\n",
    "    ordinal_encoder, HistGradientBoostingRegressor(random_state=42)\n",
    ")"
   ]
  },
  {
   "cell_type": "code",
   "execution_count": null,
   "id": "06125461-e872-4ed2-887c-bb13caa54747",
   "metadata": {},
   "outputs": [],
   "source": [
    "### Gradient boosting estimator with native categorical support\n",
    "\n",
    "hist_native = make_pipeline(\n",
    "    ordinal_encoder,\n",
    "    HistGradientBoostingRegressor(\n",
    "        random_state = 42,\n",
    "        categorical_features = cat_cols,\n",
    "    ),\n",
    ")\n",
    "\n",
    "hist_native.fit("
   ]
  },
  {
   "cell_type": "code",
   "execution_count": null,
   "id": "5efba390-c07b-4ad1-beaa-b141c75a6dea",
   "metadata": {},
   "outputs": [],
   "source": []
  },
  {
   "cell_type": "code",
   "execution_count": null,
   "id": "60acd5c3-f763-48f0-8c63-9d4e3c343605",
   "metadata": {},
   "outputs": [],
   "source": [
    "import matplotlib.pyplot as plt\n",
    "\n",
    "from sklearn.model_selection import cross_validate\n",
    "\n",
    "scoring = \"neg_mean_absolute_percentage_error\"\n",
    "n_cv_folds = 3\n",
    "\n",
    "dropped_result = cross_validate(hist_dropped, X, y, cv=n_cv_folds, scoring=scoring)\n",
    "one_hot_result = cross_validate(hist_one_hot, X, y, cv=n_cv_folds, scoring=scoring)\n",
    "ordinal_result = cross_validate(hist_ordinal, X, y, cv=n_cv_folds, scoring=scoring)\n",
    "#native_result = cross_validate(hist_native, X, y, cv=n_cv_folds, scoring=scoring)\n",
    "\n",
    "\n",
    "def plot_results(figure_title):\n",
    "    fig, (ax1, ax2) = plt.subplots(1, 2, figsize=(12, 8))\n",
    "\n",
    "    plot_info = [\n",
    "        (\"fit_time\", \"Fit times (s)\", ax1, None),\n",
    "        (\"test_score\", \"Mean Absolute Percentage Error\", ax2, None),\n",
    "    ]\n",
    "\n",
    "    #change arnage(3) back to 4\n",
    "    \n",
    "    x, width = np.arange(3), 0.9\n",
    "    for key, title, ax, y_limit in plot_info:\n",
    "        items = [\n",
    "            dropped_result[key],\n",
    "            one_hot_result[key],\n",
    "            ordinal_result[key],\n",
    "            #native_result[key],\n",
    "        ]\n",
    "\n",
    "        mape_cv_mean = [np.mean(np.abs(item)) for item in items]\n",
    "        mape_cv_std = [np.std(item) for item in items]\n",
    "\n",
    "        ax.bar(\n",
    "            x=x,\n",
    "            height=mape_cv_mean,\n",
    "            width=width,\n",
    "            yerr=mape_cv_std,\n",
    "            color=[\"C0\", \"C1\", \"C2\", \"C3\"],\n",
    "        )\n",
    "        ax.set(\n",
    "            xlabel=\"Model\",\n",
    "            title=title,\n",
    "            xticks=x,\n",
    "            xticklabels=[\"Dropped\", \"One Hot\", \"Ordinal\"], #\"Native\"],\n",
    "            ylim=y_limit,\n",
    "        )\n",
    "    fig.suptitle(figure_title)\n",
    "\n",
    "\n",
    "plot_results(\"Gradient Boosting on Ames Housing\")"
   ]
  },
  {
   "cell_type": "code",
   "execution_count": null,
   "id": "68d27108-4a4d-45ca-bc36-42f558b0ecef",
   "metadata": {},
   "outputs": [],
   "source": []
  }
 ],
 "metadata": {
  "kernelspec": {
   "display_name": "Python 3 (ipykernel)",
   "language": "python",
   "name": "python3"
  },
  "language_info": {
   "codemirror_mode": {
    "name": "ipython",
    "version": 3
   },
   "file_extension": ".py",
   "mimetype": "text/x-python",
   "name": "python",
   "nbconvert_exporter": "python",
   "pygments_lexer": "ipython3",
   "version": "3.11.4"
  }
 },
 "nbformat": 4,
 "nbformat_minor": 5
}
