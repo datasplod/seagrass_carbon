{
 "cells": [
  {
   "cell_type": "markdown",
   "id": "ba9cf07d-4031-4004-9607-55630c04e919",
   "metadata": {},
   "source": [
    "# Clustering analysis of seagrass environmental conditions"
   ]
  },
  {
   "cell_type": "markdown",
   "id": "6938021e-b688-4c42-b9b5-e7fe0b00f842",
   "metadata": {},
   "source": [
    "**Aim:** To identify any clusters within the environmental conditions of Zostera marina seagrass beds (e.g. temperature, exposure, turbidity, local soil type etc). This doesn't include the carbon data associated with the seagrass beds in the dataset."
   ]
  },
  {
   "cell_type": "code",
   "execution_count": 1,
   "id": "00104f4c-a1b9-486a-973d-48eb3bf267f8",
   "metadata": {},
   "outputs": [],
   "source": [
    "import numpy as np\n",
    "import pacmap"
   ]
  },
  {
   "cell_type": "code",
   "execution_count": 2,
   "id": "7d69e71f-8ae3-4be9-8bf9-5eb3fa762660",
   "metadata": {},
   "outputs": [],
   "source": [
    "import numpy as np\n",
    "import pandas as pd\n",
    "import matplotlib.pyplot as plt\n",
    "import seaborn as sns"
   ]
  },
  {
   "cell_type": "code",
   "execution_count": 3,
   "id": "3a58a4bc-1b0f-461d-939b-2e667027192c",
   "metadata": {},
   "outputs": [],
   "source": [
    "from sklearn.cluster import KMeans\n",
    "from yellowbrick.cluster import KElbowVisualizer"
   ]
  },
  {
   "cell_type": "code",
   "execution_count": 4,
   "id": "2c3f6be6-c3d4-4836-ba18-024744a5f024",
   "metadata": {},
   "outputs": [],
   "source": [
    "from sklearn.manifold import TSNE"
   ]
  },
  {
   "cell_type": "markdown",
   "id": "fba749f6-e53e-4f31-a2d5-02176fea03c6",
   "metadata": {},
   "source": [
    "## 1. Import Full Dataset"
   ]
  },
  {
   "cell_type": "code",
   "execution_count": 5,
   "id": "eef84dce-a1b0-4080-a435-260ad8b4dd6c",
   "metadata": {},
   "outputs": [],
   "source": [
    "## Import carbon data\n",
    "path = r\"C:\\Users\\nw431\\OneDrive - University of Exeter\\1_PhD Research\\Project1_Carbon Model\\Seagrass env variables\\1E_Final dataset\\Outputs\\final_dataset.csv\"\n",
    "df = pd.read_csv(path, index_col = 0)"
   ]
  },
  {
   "cell_type": "markdown",
   "id": "8eda92fc-6e7a-41b9-838d-9685b7eba5e4",
   "metadata": {},
   "source": [
    "** ID_225 missing tidal range value - amend later"
   ]
  },
  {
   "cell_type": "code",
   "execution_count": 6,
   "id": "b13bebda-1e26-4775-99ca-6e8885f17784",
   "metadata": {},
   "outputs": [
    {
     "data": {
      "text/html": [
       "<div>\n",
       "<style scoped>\n",
       "    .dataframe tbody tr th:only-of-type {\n",
       "        vertical-align: middle;\n",
       "    }\n",
       "\n",
       "    .dataframe tbody tr th {\n",
       "        vertical-align: top;\n",
       "    }\n",
       "\n",
       "    .dataframe thead th {\n",
       "        text-align: right;\n",
       "    }\n",
       "</style>\n",
       "<table border=\"1\" class=\"dataframe\">\n",
       "  <thead>\n",
       "    <tr style=\"text-align: right;\">\n",
       "      <th></th>\n",
       "      <th>Site_name</th>\n",
       "      <th>Lat</th>\n",
       "      <th>Long</th>\n",
       "      <th>Cstock25_Mgha</th>\n",
       "      <th>C25_SD</th>\n",
       "      <th>Species</th>\n",
       "      <th>Mono_mix</th>\n",
       "      <th>exposure</th>\n",
       "      <th>extr_exposure</th>\n",
       "      <th>ECO_CODE</th>\n",
       "      <th>...</th>\n",
       "      <th>PAR_mean</th>\n",
       "      <th>PAR_std</th>\n",
       "      <th>MEAN_SIG_WAVEHEIGHT</th>\n",
       "      <th>TEMP_MOISTURE</th>\n",
       "      <th>EMU_PHYSICAL</th>\n",
       "      <th>REGIONAL_SINUOSITY</th>\n",
       "      <th>GHM</th>\n",
       "      <th>MAX_SLOPE</th>\n",
       "      <th>OUTFLOW_DENSITY</th>\n",
       "      <th>ERODIBILITY</th>\n",
       "    </tr>\n",
       "  </thead>\n",
       "  <tbody>\n",
       "    <tr>\n",
       "      <th>ID_225</th>\n",
       "      <td>Neill Point (50.2)</td>\n",
       "      <td>47.334</td>\n",
       "      <td>-122.491</td>\n",
       "      <td>13.94</td>\n",
       "      <td>NaN</td>\n",
       "      <td>Z. marina</td>\n",
       "      <td>Monospecific</td>\n",
       "      <td>7256.59</td>\n",
       "      <td>12586.72</td>\n",
       "      <td>25056.0</td>\n",
       "      <td>...</td>\n",
       "      <td>64.365327</td>\n",
       "      <td>2.112282</td>\n",
       "      <td>0.114786</td>\n",
       "      <td>Cool Temperate Moist</td>\n",
       "      <td>Euhaline-Oxic-Moderate</td>\n",
       "      <td>1.7154</td>\n",
       "      <td>0.413045</td>\n",
       "      <td>39.04253</td>\n",
       "      <td>48661.17578</td>\n",
       "      <td>High</td>\n",
       "    </tr>\n",
       "  </tbody>\n",
       "</table>\n",
       "<p>1 rows × 75 columns</p>\n",
       "</div>"
      ],
      "text/plain": [
       "                 Site_name     Lat     Long  Cstock25_Mgha  C25_SD    Species  \\\n",
       "ID_225  Neill Point (50.2)  47.334 -122.491          13.94     NaN  Z. marina   \n",
       "\n",
       "            Mono_mix  exposure  extr_exposure  ECO_CODE  ...   PAR_mean  \\\n",
       "ID_225  Monospecific   7256.59       12586.72   25056.0  ...  64.365327   \n",
       "\n",
       "         PAR_std MEAN_SIG_WAVEHEIGHT         TEMP_MOISTURE  \\\n",
       "ID_225  2.112282            0.114786  Cool Temperate Moist   \n",
       "\n",
       "                  EMU_PHYSICAL  REGIONAL_SINUOSITY       GHM  MAX_SLOPE  \\\n",
       "ID_225  Euhaline-Oxic-Moderate              1.7154  0.413045   39.04253   \n",
       "\n",
       "        OUTFLOW_DENSITY  ERODIBILITY  \n",
       "ID_225      48661.17578         High  \n",
       "\n",
       "[1 rows x 75 columns]"
      ]
     },
     "execution_count": 6,
     "metadata": {},
     "output_type": "execute_result"
    }
   ],
   "source": [
    "df[df.index == 'ID_225']"
   ]
  },
  {
   "cell_type": "markdown",
   "id": "43d15fb8-ab87-43ca-93a8-b35a41cbb055",
   "metadata": {},
   "source": [
    "## 2. Dataset pre-processing"
   ]
  },
  {
   "cell_type": "markdown",
   "id": "33967f2a-74be-4c38-8e7c-8f07037411b8",
   "metadata": {},
   "source": [
    "Tidy up dataset - remove nans - encode object columns for clustering"
   ]
  },
  {
   "cell_type": "code",
   "execution_count": 7,
   "id": "66e62281-f551-4bb6-b8d5-06d151f2171b",
   "metadata": {
    "scrolled": true
   },
   "outputs": [],
   "source": [
    "#drop rows with nan in long/lat column (to remove those with no data)\n",
    "df = df[df['Lat'].notna()]"
   ]
  },
  {
   "cell_type": "code",
   "execution_count": 8,
   "id": "c124b631-745f-4e6a-9fff-2e04d3be157d",
   "metadata": {},
   "outputs": [
    {
     "data": {
      "text/plain": [
       "array(['Z. marina', 'unvegetated', 'Z. japonica', 'Z. marina mixed',\n",
       "       'Z. angustifolia/Z. noltii', 'Z. angustifolia', 'Z. notlii'],\n",
       "      dtype=object)"
      ]
     },
     "execution_count": 8,
     "metadata": {},
     "output_type": "execute_result"
    }
   ],
   "source": [
    "#rename to combine Z.marina mixed to one name\n",
    "df['Species'].replace({'Z. marina/Z. angustifolia/Z. noltii/Ruppiaspp.': 'Z. marina mixed', 'Z. marina/Z. noltii': 'Z. marina mixed'}, inplace = True)\n",
    "df['Species'].unique()"
   ]
  },
  {
   "cell_type": "code",
   "execution_count": 9,
   "id": "881a94fe-7c12-4c07-bb39-5a8e6308cd19",
   "metadata": {},
   "outputs": [
    {
     "data": {
      "text/plain": [
       "169"
      ]
     },
     "execution_count": 9,
     "metadata": {},
     "output_type": "execute_result"
    }
   ],
   "source": [
    "df['Species'][df['Species'] == 'Z. marina'].count()"
   ]
  },
  {
   "cell_type": "markdown",
   "id": "cf6cd992-dca4-445d-833a-78a5a45b0607",
   "metadata": {},
   "source": [
    "### Encode object data"
   ]
  },
  {
   "cell_type": "code",
   "execution_count": 10,
   "id": "314e59f9-e3c9-4791-a238-6761d872278f",
   "metadata": {},
   "outputs": [
    {
     "data": {
      "text/plain": [
       "(237, 103)"
      ]
     },
     "execution_count": 10,
     "metadata": {},
     "output_type": "execute_result"
    }
   ],
   "source": [
    "#one hot encode object types\n",
    "from sklearn.preprocessing import OneHotEncoder\n",
    "\n",
    "#species  #don't encode as only going to use Z.marina\n",
    "df_all = df.copy()\n",
    "#df_species = pd.get_dummies(df_all[\"Species\"]) #encode species column\n",
    "#df_all = pd.concat([df_all, df_species.set_index(df_all.index)], axis = 1)\n",
    "\n",
    "#temp_moisture  ##leave out for now as duplicate climate variables\n",
    "df_tm = pd.get_dummies(df_all[\"TEMP_MOISTURE\"])\n",
    "df_all = pd.concat([df_all, df_tm.set_index(df_all.index)], axis = 1)\n",
    "\n",
    "#emu_physical = leave out for now = duplicate of climate variables?\n",
    "df_emu = pd.get_dummies(df_all[\"EMU_PHYSICAL\"])\n",
    "df_all = pd.concat([df_all, df_emu.set_index(df_all.index)], axis = 1)\n",
    "\n",
    "#ECOREGION\n",
    "df_eco = pd.get_dummies(df_all['PROVINCE'])\n",
    "df_all = pd.concat([df_all, df_eco.set_index(df_all.index)], axis =1)\n",
    "\n",
    "#erodibility\n",
    "df_erod = pd.get_dummies(df_all['ERODIBILITY'], prefix = 'Erod')\n",
    "df_all = pd.concat([df_all, df_erod.set_index(df_all.index)], axis = 1)\n",
    "\n",
    "df_all.shape"
   ]
  },
  {
   "cell_type": "markdown",
   "id": "c2755fbf-29b7-44ee-9a76-98d95f5cb4fd",
   "metadata": {},
   "source": [
    "**QU** - Is this the best way to encode objects?"
   ]
  },
  {
   "cell_type": "code",
   "execution_count": 11,
   "id": "0c34a890-92d4-4a68-a16d-aaaa0c7eed47",
   "metadata": {},
   "outputs": [
    {
     "data": {
      "text/html": [
       "<div>\n",
       "<style scoped>\n",
       "    .dataframe tbody tr th:only-of-type {\n",
       "        vertical-align: middle;\n",
       "    }\n",
       "\n",
       "    .dataframe tbody tr th {\n",
       "        vertical-align: top;\n",
       "    }\n",
       "\n",
       "    .dataframe thead th {\n",
       "        text-align: right;\n",
       "    }\n",
       "</style>\n",
       "<table border=\"1\" class=\"dataframe\">\n",
       "  <thead>\n",
       "    <tr style=\"text-align: right;\">\n",
       "      <th></th>\n",
       "      <th>Black Sea</th>\n",
       "      <th>Cold Temperate Northeast Pacific</th>\n",
       "      <th>Cold Temperate Northwest Atlantic</th>\n",
       "      <th>Cold Temperate Northwest Pacific</th>\n",
       "      <th>Lusitanian</th>\n",
       "      <th>Mediterranean Sea</th>\n",
       "      <th>Northern European Seas</th>\n",
       "      <th>Warm Temperate Northeast Pacific</th>\n",
       "      <th>Warm Temperate Northwest Pacific</th>\n",
       "    </tr>\n",
       "  </thead>\n",
       "  <tbody>\n",
       "    <tr>\n",
       "      <th>ID_101</th>\n",
       "      <td>0</td>\n",
       "      <td>1</td>\n",
       "      <td>0</td>\n",
       "      <td>0</td>\n",
       "      <td>0</td>\n",
       "      <td>0</td>\n",
       "      <td>0</td>\n",
       "      <td>0</td>\n",
       "      <td>0</td>\n",
       "    </tr>\n",
       "    <tr>\n",
       "      <th>ID_102</th>\n",
       "      <td>0</td>\n",
       "      <td>1</td>\n",
       "      <td>0</td>\n",
       "      <td>0</td>\n",
       "      <td>0</td>\n",
       "      <td>0</td>\n",
       "      <td>0</td>\n",
       "      <td>0</td>\n",
       "      <td>0</td>\n",
       "    </tr>\n",
       "    <tr>\n",
       "      <th>ID_103</th>\n",
       "      <td>0</td>\n",
       "      <td>1</td>\n",
       "      <td>0</td>\n",
       "      <td>0</td>\n",
       "      <td>0</td>\n",
       "      <td>0</td>\n",
       "      <td>0</td>\n",
       "      <td>0</td>\n",
       "      <td>0</td>\n",
       "    </tr>\n",
       "    <tr>\n",
       "      <th>ID_104</th>\n",
       "      <td>0</td>\n",
       "      <td>1</td>\n",
       "      <td>0</td>\n",
       "      <td>0</td>\n",
       "      <td>0</td>\n",
       "      <td>0</td>\n",
       "      <td>0</td>\n",
       "      <td>0</td>\n",
       "      <td>0</td>\n",
       "    </tr>\n",
       "    <tr>\n",
       "      <th>ID_105</th>\n",
       "      <td>0</td>\n",
       "      <td>1</td>\n",
       "      <td>0</td>\n",
       "      <td>0</td>\n",
       "      <td>0</td>\n",
       "      <td>0</td>\n",
       "      <td>0</td>\n",
       "      <td>0</td>\n",
       "      <td>0</td>\n",
       "    </tr>\n",
       "    <tr>\n",
       "      <th>...</th>\n",
       "      <td>...</td>\n",
       "      <td>...</td>\n",
       "      <td>...</td>\n",
       "      <td>...</td>\n",
       "      <td>...</td>\n",
       "      <td>...</td>\n",
       "      <td>...</td>\n",
       "      <td>...</td>\n",
       "      <td>...</td>\n",
       "    </tr>\n",
       "    <tr>\n",
       "      <th>ID_341</th>\n",
       "      <td>0</td>\n",
       "      <td>0</td>\n",
       "      <td>0</td>\n",
       "      <td>0</td>\n",
       "      <td>0</td>\n",
       "      <td>0</td>\n",
       "      <td>1</td>\n",
       "      <td>0</td>\n",
       "      <td>0</td>\n",
       "    </tr>\n",
       "    <tr>\n",
       "      <th>ID_342</th>\n",
       "      <td>0</td>\n",
       "      <td>0</td>\n",
       "      <td>0</td>\n",
       "      <td>0</td>\n",
       "      <td>0</td>\n",
       "      <td>0</td>\n",
       "      <td>1</td>\n",
       "      <td>0</td>\n",
       "      <td>0</td>\n",
       "    </tr>\n",
       "    <tr>\n",
       "      <th>ID_343</th>\n",
       "      <td>0</td>\n",
       "      <td>0</td>\n",
       "      <td>0</td>\n",
       "      <td>0</td>\n",
       "      <td>0</td>\n",
       "      <td>0</td>\n",
       "      <td>1</td>\n",
       "      <td>0</td>\n",
       "      <td>0</td>\n",
       "    </tr>\n",
       "    <tr>\n",
       "      <th>ID_344</th>\n",
       "      <td>0</td>\n",
       "      <td>0</td>\n",
       "      <td>0</td>\n",
       "      <td>0</td>\n",
       "      <td>0</td>\n",
       "      <td>0</td>\n",
       "      <td>1</td>\n",
       "      <td>0</td>\n",
       "      <td>0</td>\n",
       "    </tr>\n",
       "    <tr>\n",
       "      <th>ID_345</th>\n",
       "      <td>0</td>\n",
       "      <td>0</td>\n",
       "      <td>0</td>\n",
       "      <td>0</td>\n",
       "      <td>0</td>\n",
       "      <td>0</td>\n",
       "      <td>1</td>\n",
       "      <td>0</td>\n",
       "      <td>0</td>\n",
       "    </tr>\n",
       "  </tbody>\n",
       "</table>\n",
       "<p>237 rows × 9 columns</p>\n",
       "</div>"
      ],
      "text/plain": [
       "        Black Sea  Cold Temperate Northeast Pacific  \\\n",
       "ID_101          0                                 1   \n",
       "ID_102          0                                 1   \n",
       "ID_103          0                                 1   \n",
       "ID_104          0                                 1   \n",
       "ID_105          0                                 1   \n",
       "...           ...                               ...   \n",
       "ID_341          0                                 0   \n",
       "ID_342          0                                 0   \n",
       "ID_343          0                                 0   \n",
       "ID_344          0                                 0   \n",
       "ID_345          0                                 0   \n",
       "\n",
       "        Cold Temperate Northwest Atlantic  Cold Temperate Northwest Pacific  \\\n",
       "ID_101                                  0                                 0   \n",
       "ID_102                                  0                                 0   \n",
       "ID_103                                  0                                 0   \n",
       "ID_104                                  0                                 0   \n",
       "ID_105                                  0                                 0   \n",
       "...                                   ...                               ...   \n",
       "ID_341                                  0                                 0   \n",
       "ID_342                                  0                                 0   \n",
       "ID_343                                  0                                 0   \n",
       "ID_344                                  0                                 0   \n",
       "ID_345                                  0                                 0   \n",
       "\n",
       "        Lusitanian  Mediterranean Sea  Northern European Seas  \\\n",
       "ID_101           0                  0                       0   \n",
       "ID_102           0                  0                       0   \n",
       "ID_103           0                  0                       0   \n",
       "ID_104           0                  0                       0   \n",
       "ID_105           0                  0                       0   \n",
       "...            ...                ...                     ...   \n",
       "ID_341           0                  0                       1   \n",
       "ID_342           0                  0                       1   \n",
       "ID_343           0                  0                       1   \n",
       "ID_344           0                  0                       1   \n",
       "ID_345           0                  0                       1   \n",
       "\n",
       "        Warm Temperate Northeast Pacific  Warm Temperate Northwest Pacific  \n",
       "ID_101                                 0                                 0  \n",
       "ID_102                                 0                                 0  \n",
       "ID_103                                 0                                 0  \n",
       "ID_104                                 0                                 0  \n",
       "ID_105                                 0                                 0  \n",
       "...                                  ...                               ...  \n",
       "ID_341                                 0                                 0  \n",
       "ID_342                                 0                                 0  \n",
       "ID_343                                 0                                 0  \n",
       "ID_344                                 0                                 0  \n",
       "ID_345                                 0                                 0  \n",
       "\n",
       "[237 rows x 9 columns]"
      ]
     },
     "execution_count": 11,
     "metadata": {},
     "output_type": "execute_result"
    }
   ],
   "source": [
    "df_eco"
   ]
  },
  {
   "cell_type": "code",
   "execution_count": 12,
   "id": "2c5a2d89-66dc-490f-9cf2-776a2b59d59f",
   "metadata": {},
   "outputs": [
    {
     "data": {
      "text/plain": [
       "169"
      ]
     },
     "execution_count": 12,
     "metadata": {},
     "output_type": "execute_result"
    }
   ],
   "source": [
    "df_all.Species[df.Species == 'Z. marina'].count()"
   ]
  },
  {
   "cell_type": "code",
   "execution_count": 13,
   "id": "985d3cc7-fc55-4282-bf7e-ed0b581d139f",
   "metadata": {},
   "outputs": [
    {
     "data": {
      "text/plain": [
       "(237, 103)"
      ]
     },
     "execution_count": 13,
     "metadata": {},
     "output_type": "execute_result"
    }
   ],
   "source": [
    "df_all.shape"
   ]
  },
  {
   "cell_type": "markdown",
   "id": "8105c175-ade1-44d6-befa-88cff9733c28",
   "metadata": {},
   "source": [
    "### Create cluster dataframe with only columns of interest"
   ]
  },
  {
   "cell_type": "code",
   "execution_count": 14,
   "id": "6bc057e8-6a9b-4a1a-8c1f-599b6f330dfc",
   "metadata": {},
   "outputs": [],
   "source": [
    "#Select only rows that are Z. marina or Z. marina mixed\n",
    "zmarina = ['Z. marina', 'Z. marina mixed']\n",
    "df_zmarina = df_all[df_all['Species'].isin(zmarina)]"
   ]
  },
  {
   "cell_type": "markdown",
   "id": "fd05b28e-529a-4d03-a861-e403a8e4eb6f",
   "metadata": {},
   "source": [
    "### Make all numeric"
   ]
  },
  {
   "cell_type": "code",
   "execution_count": 15,
   "id": "2b1599f0-8422-468e-90eb-74980bcd1a1d",
   "metadata": {},
   "outputs": [
    {
     "data": {
      "text/plain": [
       "Index(['Lat', 'Long', 'Cstock25_Mgha', 'C25_SD', 'exposure', 'extr_exposure',\n",
       "       'ECO_CODE', 'PROV_CODE', 'RLM_CODE', 'NEAR_DIST', 'range_chl_oc3',\n",
       "       'range_chl_re_gons', 'range_TUR_Nechad2016_665',\n",
       "       'range_SPM_Nechad2016_665', 'range_p3qaa_zSD', 'range_p3qaa_zSD_biased',\n",
       "       'range_p3qaa_eta', 'range_p3qaa_KPAR', 'mean_area_chl_oc3',\n",
       "       'mean_area_chl_re_gons', 'mean_area_TUR_Nechad2016_665',\n",
       "       'mean_area_SPM_Nechad2016_665', 'mean_area_p3qaa_zSD',\n",
       "       'mean_area_p3qaa_zSD_biased', 'mean_area_p3qaa_eta',\n",
       "       'mean_area_p3qaa_KPAR', 'sum_area_chl_oc3', 'sum_area_chl_re_gons',\n",
       "       'sum_area_TUR_Nechad2016_665', 'sum_area_SPM_Nechad2016_665',\n",
       "       'sum_area_p3qaa_zSD', 'sum_area_p3qaa_zSD_biased', 'sum_area_p3qaa_eta',\n",
       "       'sum_area_p3qaa_KPAR', 'mean_pressure', 'var_mean_pressure',\n",
       "       'std_mean_pressure', 'mean_temp', 'var_mean_temp', 'std_mean_temp',\n",
       "       'mean_rain', 'var_mean_rain', 'std_mean_rain', 'Tidal_range',\n",
       "       'SUB_AREA', 'soil_clay%', 'natural_discharge', 'soil_erosion',\n",
       "       'forest%', 'land_cover_class', 'class1%', 'class19%', 'terrain_slope',\n",
       "       'soil_silt%', 'soil_sand%', 'soil_carbon_stock', 'soil_water', 'hfi_93',\n",
       "       'hfi_09', 'PAR_mean', 'PAR_std', 'MEAN_SIG_WAVEHEIGHT',\n",
       "       'REGIONAL_SINUOSITY', 'GHM', 'MAX_SLOPE', 'OUTFLOW_DENSITY',\n",
       "       'Cool Temperate Moist', 'Warm Temperate Dry', 'Warm Temperate Moist',\n",
       "       'Euhaline-Highly Oxic-Superchilled',\n",
       "       'Euhaline-Hypoxic-Moderate to Cool', 'Euhaline-Oxic-Cold',\n",
       "       'Euhaline-Oxic-Moderate', 'Euhaline-Oxic-Moderate to Cool',\n",
       "       'Euhaline-Oxic-Very Cold', 'Euhaline-Oxic-Warm to Very Warm',\n",
       "       'Mesohaline-Highly Oxic-Very Cold', 'Mesohaline-Hypoxic-Cold',\n",
       "       'Mesohaline-Oxic-Cold', 'Polyhaline-Highly Oxic-Superchilled',\n",
       "       'Polyhaline-Oxic-Cold', 'Black Sea', 'Cold Temperate Northeast Pacific',\n",
       "       'Cold Temperate Northwest Atlantic', 'Cold Temperate Northwest Pacific',\n",
       "       'Lusitanian', 'Mediterranean Sea', 'Northern European Seas',\n",
       "       'Warm Temperate Northeast Pacific', 'Warm Temperate Northwest Pacific',\n",
       "       'Erod_High', 'Erod_Low', 'Erod_Medium', 'Erod_Non'],\n",
       "      dtype='object')"
      ]
     },
     "execution_count": 15,
     "metadata": {},
     "output_type": "execute_result"
    }
   ],
   "source": [
    "#select numeric only\n",
    "numerics = ['int16', 'int32', 'int64', 'float16', 'float32', 'float64', 'uint8']\n",
    "df_num = df_zmarina.select_dtypes(include=numerics)\n",
    "\n",
    "#log large part of dataframe - #don't log as normalising later\n",
    "# log_cols = ['exposure', 'extr_exposure','mean_area_chl_oc3', 'mean_area_chl_re_gons',\n",
    "#        'mean_area_TUR_Nechad2016_665', 'mean_area_SPM_Nechad2016_665',\n",
    "#        'mean_area_p3qaa_zSD', \n",
    "#        'mean_area_p3qaa_eta',]\n",
    "# df_cluster[log_cols] = df_cluster[log_cols].apply(np.log10)\n",
    "\n",
    "df_num.keys()"
   ]
  },
  {
   "cell_type": "code",
   "execution_count": 16,
   "id": "e70c90f6-23dd-40cd-a5d6-5c71a9efed79",
   "metadata": {},
   "outputs": [],
   "source": [
    "#select only columns that want to cluster on\n",
    "cluster_cols = ['Lat', 'exposure', 'extr_exposure', 'NEAR_DIST', 'mean_area_TUR_Nechad2016_665',\n",
    "       'mean_area_SPM_Nechad2016_665', 'mean_area_p3qaa_zSD', 'mean_area_p3qaa_eta', 'mean_pressure', 'mean_temp',\n",
    "        'soil_clay%', 'soil_erosion', \n",
    "       'soil_silt%', 'soil_sand%', 'soil_carbon_stock', 'PAR_mean', 'forest%', 'MEAN_SIG_WAVEHEIGHT', \n",
    "        'REGIONAL_SINUOSITY', 'GHM', \n",
    "       'OUTFLOW_DENSITY', 'mean_rain', 'Tidal_range', \n",
    "       'Erod_High', 'Erod_Low', 'Erod_Medium', 'Erod_Non']\n",
    "\n",
    "all_cols = df_num.drop(['Cstock25_Mgha', 'C25_SD', 'ECO_CODE', 'PROV_CODE',\n",
    "       'RLM_CODE'], axis = 1)\n",
    "\n",
    "#df_cluster = df_num.loc[:, cluster_cols]\n",
    "\n",
    "#df_cluster = all_cols.copy()\n",
    "\n",
    "#all_cols.keys()\n",
    "#df_cluster.shape"
   ]
  },
  {
   "cell_type": "code",
   "execution_count": 17,
   "id": "4c68ee14-0317-4b4c-8f0d-1801d9b9df4c",
   "metadata": {},
   "outputs": [
    {
     "ename": "NameError",
     "evalue": "name 'df_cluster' is not defined",
     "output_type": "error",
     "traceback": [
      "\u001b[1;31m---------------------------------------------------------------------------\u001b[0m",
      "\u001b[1;31mNameError\u001b[0m                                 Traceback (most recent call last)",
      "Cell \u001b[1;32mIn[17], line 2\u001b[0m\n\u001b[0;32m      1\u001b[0m \u001b[38;5;66;03m#remove nans from final df_cluster\u001b[39;00m\n\u001b[1;32m----> 2\u001b[0m df_cluster \u001b[38;5;241m=\u001b[39m df_cluster\u001b[38;5;241m.\u001b[39mdropna(how\u001b[38;5;241m=\u001b[39m\u001b[38;5;124m'\u001b[39m\u001b[38;5;124many\u001b[39m\u001b[38;5;124m'\u001b[39m)\n\u001b[0;32m      3\u001b[0m df_cluster\u001b[38;5;241m.\u001b[39mshape\n",
      "\u001b[1;31mNameError\u001b[0m: name 'df_cluster' is not defined"
     ]
    }
   ],
   "source": [
    "#remove nans from final df_cluster\n",
    "df_cluster = df_cluster.dropna(how='any')\n",
    "df_cluster.shape"
   ]
  },
  {
   "cell_type": "code",
   "execution_count": null,
   "id": "d574d130-cee4-45a6-b425-1e20ea6e02f5",
   "metadata": {
    "scrolled": true
   },
   "outputs": [],
   "source": [
    "check_for_nan = df_cluster[df_cluster.isna().any(axis =1)]\n",
    "check_for_nan"
   ]
  },
  {
   "cell_type": "markdown",
   "id": "705ee7a6-a780-4d74-94b4-264105cec257",
   "metadata": {},
   "source": [
    "### Finalise dataframes "
   ]
  },
  {
   "cell_type": "markdown",
   "id": "d5cbe31b-0714-4213-a80b-a429e57fd8c4",
   "metadata": {},
   "source": [
    "Dataframes:\n",
    "1. **names**: label data to compare clusters to\n",
    "2. **df_cluster**: numerical dataset ready for clustering"
   ]
  },
  {
   "cell_type": "code",
   "execution_count": null,
   "id": "ca1ed05f-8bd8-40fb-8309-be80d2e8186f",
   "metadata": {},
   "outputs": [],
   "source": [
    "names = df_all.loc[:, ['Site_name', 'ECOREGION', 'Species', 'PROVINCE', 'Cstock25_Mgha']]\n",
    "#names = names[names.isna().any(axis = 1)]\n",
    "names = names[names.index.isin(df_cluster.index)]  #select only rows that match df_cluster index\n",
    "names\n",
    "names.shape"
   ]
  },
  {
   "cell_type": "code",
   "execution_count": null,
   "id": "fff8c13e-32db-4d8d-8f5d-2f8e59851480",
   "metadata": {},
   "outputs": [],
   "source": [
    "#check length is the same\n",
    "df_cluster.shape"
   ]
  },
  {
   "cell_type": "markdown",
   "id": "fe70d768-cf8e-4d51-ba59-62ae41825b4f",
   "metadata": {},
   "source": [
    "## 3. Normalise data"
   ]
  },
  {
   "cell_type": "markdown",
   "id": "3f908edd-e6f9-492c-b6d8-297e2ac5ebe3",
   "metadata": {},
   "source": [
    "Visualise shape of data first to identify features that may need log. Log features then standardise whole dataset"
   ]
  },
  {
   "cell_type": "code",
   "execution_count": null,
   "id": "e80dfe9a-cf7f-492f-8f14-2ab278ca73e6",
   "metadata": {},
   "outputs": [],
   "source": [
    "X = df_cluster.copy()"
   ]
  },
  {
   "cell_type": "code",
   "execution_count": null,
   "id": "c3f1c42a-0b5c-4879-90e1-44a86a47c899",
   "metadata": {},
   "outputs": [],
   "source": [
    "X_melt = pd.melt(X)\n",
    "g= sns.FacetGrid(X_melt, col = 'variable', sharex = False, col_wrap = 6)\n",
    "g.map(sns.histplot, 'value', alpha = 0.7)"
   ]
  },
  {
   "cell_type": "code",
   "execution_count": null,
   "id": "2a8e5498-3ed8-4e14-b75b-99fbfaaf45b8",
   "metadata": {},
   "outputs": [],
   "source": [
    "# perform a yeo-johnson transform of the dataset\n",
    "from sklearn.preprocessing import PowerTransformer\n",
    "pt = PowerTransformer(method='yeo-johnson')\n",
    "X_pt = pt.fit_transform(X)\n",
    "\n",
    "#Standardise before power transform\n",
    "from sklearn.preprocessing import StandardScaler\n",
    "scaler = StandardScaler()\n",
    "X_std = scaler.fit_transform(X_pt)\n",
    "\n",
    "#convert back to dataframe with column names and call X_norm for following code\n",
    "X_norm = pd.DataFrame(X_std, columns = X.columns)"
   ]
  },
  {
   "cell_type": "code",
   "execution_count": null,
   "id": "e5076297-89b8-4f14-855f-0317b785aed4",
   "metadata": {},
   "outputs": [],
   "source": [
    "#check distributions of standardised data\n",
    "X_norm.hist();"
   ]
  },
  {
   "cell_type": "code",
   "execution_count": null,
   "id": "491429ab-db24-4890-a1d6-1b2229525499",
   "metadata": {},
   "outputs": [],
   "source": [
    "X_array = np.asarray(X_norm)\n",
    "plt.scatter(X_array[:, 0], X_array[:, 1])\n",
    "plt.show()"
   ]
  },
  {
   "cell_type": "code",
   "execution_count": null,
   "id": "0be04f46-cf27-4038-88e8-88e947bbbb10",
   "metadata": {},
   "outputs": [],
   "source": [
    "#viz distributions of features \n",
    "# X_short = X.loc[:, ['exposure', 'extr_exposure', 'NEAR_DIST', 'mean_area_TUR_Nechad2016_665',\n",
    "#        'mean_area_SPM_Nechad2016_665', 'mean_area_p3qaa_zSD']]\n",
    "# X_short_log = np.log10(X_short)\n",
    "# X_short_log_norm =scaler.fit_transform(X_short_log)\n",
    "# X_short_log_norm = pd.DataFrame(X_short_log_norm, columns = X_short.columns)\n",
    "# sns.pairplot(X_short_log_norm)"
   ]
  },
  {
   "cell_type": "markdown",
   "id": "24a9a16b-1ce5-415e-8267-19d1994c650b",
   "metadata": {},
   "source": [
    "## 4. Determine best number of clusters for KMeans"
   ]
  },
  {
   "cell_type": "code",
   "execution_count": null,
   "id": "6d2519d9-b4d2-4f96-a887-7d8f083d0865",
   "metadata": {},
   "outputs": [],
   "source": [
    "# define max. 6 different cluster colors\n",
    "cluster_colors = ['#b4d2b1', '#568f8b', '#1d4a60', '#cd7e59', '#ddb247', '#d15252', '#6a040f']"
   ]
  },
  {
   "cell_type": "code",
   "execution_count": null,
   "id": "9639fedc-4da1-470a-8a68-a081d3bfef00",
   "metadata": {},
   "outputs": [],
   "source": [
    "# Calculate optimum number of clusters\n",
    "km_fit.inertia_"
   ]
  },
  {
   "cell_type": "code",
   "execution_count": null,
   "id": "628fea5c-66d6-43d5-a2d3-061a925e7ce5",
   "metadata": {},
   "outputs": [],
   "source": [
    "# plot elbow plot to determine number of clusters\n",
    "fig, ax = plt.subplots()\n",
    "visualizer = KElbowVisualizer(KMeans(n_init = 10), k = (2,8), ax = ax)\n",
    "visualizer.fit(X_norm)\n",
    "ax.set_xticks(range(2,8))\n",
    "visualizer.show()\n",
    "plt.show()"
   ]
  },
  {
   "cell_type": "markdown",
   "id": "76203fea-baf7-4575-aef7-f102b524849f",
   "metadata": {},
   "source": [
    "**QU** How do I resolve the above warning?"
   ]
  },
  {
   "cell_type": "code",
   "execution_count": null,
   "id": "1d60d596-c904-4640-84e1-9ba9b502dd6a",
   "metadata": {},
   "outputs": [],
   "source": [
    "# Silhouette Score Method\n",
    "from sklearn.metrics import silhouette_score\n",
    "\n",
    "silhouette_scores = []\n",
    "for k in range(2, 8):\n",
    "    km = KMeans(n_clusters=k, \n",
    "                max_iter=300, \n",
    "                tol=1e-04, \n",
    "                init='k-means++', \n",
    "                n_init=10, \n",
    "                random_state=42,\n",
    "                algorithm = 'lloyd')\n",
    "    km.fit(X_norm)\n",
    "    silhouette_scores.append(silhouette_score(X_norm, km.labels_))\n",
    "\n",
    "fig, ax = plt.subplots()\n",
    "ax.plot(range(2, 8), silhouette_scores, 'bx-')\n",
    "ax.set_title('Silhouette Score Method')\n",
    "ax.set_xlabel('Number of clusters')\n",
    "ax.set_ylabel('Silhouette Scores')\n",
    "plt.xticks(range(2, 8))"
   ]
  },
  {
   "cell_type": "markdown",
   "id": "106d39e8-3f88-4857-806c-e10ff7138b94",
   "metadata": {},
   "source": [
    "Does this show the higher the silhoutte score the better? Suggesting 4 clusters?"
   ]
  },
  {
   "cell_type": "code",
   "execution_count": null,
   "id": "4819ecf2-2f94-4773-82cf-c15c25c8f7e5",
   "metadata": {},
   "outputs": [],
   "source": [
    "# Run silhouette analysis\n",
    "from sklearn.metrics import silhouette_score, silhouette_samples\n",
    "import matplotlib.ticker as ticker\n",
    "\n",
    "def silhouette_plot(X, model, ax, colors):\n",
    "    y_lower = 10\n",
    "    y_tick_pos_ = []\n",
    "    sh_samples = silhouette_samples(X, model.labels_)\n",
    "    sh_score = silhouette_score(X, model.labels_)\n",
    "    \n",
    "    for idx in range(model.n_clusters):\n",
    "        values = sh_samples[model.labels_ == idx]\n",
    "        values.sort()\n",
    "        size = values.shape[0]\n",
    "        y_upper = y_lower + size\n",
    "        ax.fill_betweenx(np.arange(y_lower, y_upper),0,values,\n",
    "                         facecolor=colors[idx],edgecolor=colors[idx]\n",
    "        )\n",
    "        y_tick_pos_.append(y_lower + 0.5 * size)\n",
    "        y_lower = y_upper + 10\n",
    "\n",
    "    ax.axvline(x=sh_score, color=\"red\", linestyle=\"--\", label=\"Avg Silhouette Score\")\n",
    "    ax.set_title(\"Silhouette Plot for {} clusters\".format(model.n_clusters))\n",
    "    l_xlim = max(-1, min(-0.1, round(min(sh_samples) - 0.1, 1)))\n",
    "    u_xlim = min(1, round(max(sh_samples) + 0.1, 1))\n",
    "    ax.set_xlim([l_xlim, u_xlim])\n",
    "    ax.set_ylim([0, X.shape[0] + (model.n_clusters + 1) * 10])\n",
    "    ax.set_xlabel(\"silhouette coefficient values\")\n",
    "    ax.set_ylabel(\"cluster label\")\n",
    "    ax.set_yticks(y_tick_pos_)\n",
    "    ax.set_yticklabels(str(idx) for idx in range(model.n_clusters))\n",
    "    ax.xaxis.set_major_locator(ticker.MultipleLocator(0.1))\n",
    "    ax.legend(loc=\"best\")\n",
    "    return ax\n",
    "\n",
    "\n",
    "# Plot for multiple ks\n",
    "k_max = 7\n",
    "ncols = 3\n",
    "# calculate number of rows\n",
    "nrows = k_max // ncols + (k_max % ncols > 0)\n",
    "# set figure size\n",
    "fig = plt.figure(figsize=(15,15), dpi=200)\n",
    "\n",
    "for k in range(2,k_max+1):\n",
    "    \n",
    "    # Apply clustering for k clusters\n",
    "    km = KMeans(n_clusters=k, \n",
    "                max_iter=300, \n",
    "                tol=1e-04, \n",
    "                init='k-means++', \n",
    "                n_init=10, \n",
    "                random_state=42, \n",
    "                algorithm='lloyd')\n",
    "\n",
    "    km_fit = km.fit(X_norm)\n",
    "    \n",
    "    # create chart\n",
    "    ax = plt.subplot(nrows, ncols, k-1)\n",
    "    silhouette_plot(X_norm, km_fit, ax, cluster_colors)\n",
    "\n",
    "fig.suptitle(\"Silhouette plots\", fontsize=18, y=1)\n",
    "plt.tight_layout()\n",
    "plt.show()"
   ]
  },
  {
   "cell_type": "markdown",
   "id": "625dd4d5-1e00-4a5d-9a17-02834d010947",
   "metadata": {},
   "source": [
    "How to interpret silhoutte analysis? See: https://scikit-learn.org/stable/auto_examples/cluster/plot_kmeans_silhouette_analysis.html"
   ]
  },
  {
   "cell_type": "markdown",
   "id": "1f179fa8-6e25-49af-832b-49d1e8b92b62",
   "metadata": {},
   "source": [
    "Sihouette coefficients near +1 are far away from neighbouring clusters. A value of 0 indicates that the sample is on or very close to the decision boundary. Don't want any that go into -ve values as assigned to wrong cluster. Also the thickness of the sihouette plot - bigger may be as grouping of sub-clusters into one big cluster. Similar thickness, similar sized clusters."
   ]
  },
  {
   "cell_type": "markdown",
   "id": "52a4e754-5679-4be2-8664-b4f93061a713",
   "metadata": {},
   "source": [
    "3 clusters looks best here"
   ]
  },
  {
   "cell_type": "markdown",
   "id": "2d5d8210-1f1a-4cc0-a8ff-d15a03d813c1",
   "metadata": {},
   "source": [
    "## 4a: DBSCAN "
   ]
  },
  {
   "cell_type": "code",
   "execution_count": null,
   "id": "588410b7-7ca8-43ee-80cb-69573f9aa880",
   "metadata": {},
   "outputs": [],
   "source": [
    "db = DBSCAN(eps = 0.3, min_samples = 10).fit(X_norm)\n",
    "labels = db.labels_"
   ]
  },
  {
   "cell_type": "code",
   "execution_count": null,
   "id": "1dbbdb54-dfb5-4540-b169-eb2a0f7a2373",
   "metadata": {},
   "outputs": [],
   "source": [
    "# Number of clusters in labels, ignoring noise if present.\n",
    "n_clusters_ = len(set(labels)) - (1 if -1 in labels else 0)\n",
    "n_noise_ = list(labels).count(-1)\n",
    "\n",
    "print(\"Estimated number of clusters: %d\" % n_clusters_)\n",
    "print(\"Estimated number of noise points: %d\" % n_noise_)"
   ]
  },
  {
   "cell_type": "code",
   "execution_count": null,
   "id": "8e301ea0-07d0-4bb9-ada0-9ff5ed7a54b9",
   "metadata": {},
   "outputs": [],
   "source": [
    "#print(f\"Silhouette Coefficient: {metrics.silhouette_score(X_norm, labels):.3f}\")"
   ]
  },
  {
   "cell_type": "markdown",
   "id": "5258290f-3f0a-4091-91ad-5141063e96e4",
   "metadata": {},
   "source": [
    "## 4b. KMeans"
   ]
  },
  {
   "cell_type": "code",
   "execution_count": null,
   "id": "0d81956c-8458-45c3-8bf5-f65077a07bf7",
   "metadata": {},
   "outputs": [],
   "source": [
    "#final decision - build clusters based on 3\n",
    "km = KMeans(n_clusters=2, \n",
    "            max_iter=300, #max number of iterations for a single run\n",
    "            tol=1e-04, #relative tolerance\n",
    "            init='k-means++', #selects initial cluster centroids using sampling based on an empirical probability distribution of the points contribution to the overall inertia\n",
    "            n_init=10, #the number of runs with different centroid seeds\n",
    "            random_state=42, \n",
    "            algorithm='lloyd')\n",
    "\n",
    "km_fit = km.fit(X_norm)"
   ]
  },
  {
   "cell_type": "code",
   "execution_count": null,
   "id": "9746c93b-974e-45c6-931f-4407e3edb13e",
   "metadata": {},
   "outputs": [],
   "source": [
    "labels = km_fit.labels_"
   ]
  },
  {
   "cell_type": "markdown",
   "id": "886ab5cf-287d-4731-84c7-672ffba732e6",
   "metadata": {},
   "source": [
    "## 5. Cluster Diagnoses"
   ]
  },
  {
   "cell_type": "markdown",
   "id": "c03659d6-60f5-4cd5-9314-a51804ce610a",
   "metadata": {},
   "source": [
    "##### Diagnose our clusters in terms of their magnitude and cardinality\n",
    "See: https://towardsdatascience.com/common-mistakes-in-cluster-analysis-and-how-to-avoid-them-eb960116d773"
   ]
  },
  {
   "cell_type": "code",
   "execution_count": null,
   "id": "d2e9474f-41ce-4646-a682-c2027888271d",
   "metadata": {},
   "outputs": [],
   "source": [
    "from ds_utils.unsupervised import plot_cluster_cardinality, plot_cluster_magnitude, plot_magnitude_vs_cardinality"
   ]
  },
  {
   "cell_type": "code",
   "execution_count": null,
   "id": "00b1367b-429f-4abc-8935-2656a4e26f3b",
   "metadata": {},
   "outputs": [],
   "source": [
    "from scipy.spatial.distance import euclidean\n",
    "\n",
    "fig, (ax1, ax2, ax3) = plt.subplots(1,3,figsize=(12,4))\n",
    "\n",
    "plot_cluster_cardinality(km_fit.labels_,\n",
    "                         ax=ax1,\n",
    "                         title=\"Cardinality\",\n",
    "                         color=cluster_colors\n",
    "                        )\n",
    "plot_cluster_magnitude(X_norm,\n",
    "                       km_fit.labels_,\n",
    "                       km_fit.cluster_centers_,\n",
    "                       euclidean,\n",
    "                       ax=ax2,\n",
    "                       title=\"Magnitude\",\n",
    "                       color=cluster_colors\n",
    "                      )\n",
    "plot_magnitude_vs_cardinality(X_norm, km_fit.labels_,\n",
    "                              km_fit.cluster_centers_,\n",
    "                              euclidean,\n",
    "                              color=cluster_colors[0:km_fit.n_clusters],\n",
    "                              ax=ax3, \n",
    "                              title=\"Magnitude vs. Cardinality\"\n",
    "                             )\n",
    "\n",
    "fig.autofmt_xdate(rotation=0)\n",
    "plt.tight_layout()\n",
    "plt.show()"
   ]
  },
  {
   "cell_type": "markdown",
   "id": "5fb1abbd-f711-42c2-a916-23f83347ac86",
   "metadata": {},
   "source": [
    "Cluster cardinality is the number of examples per cluster. Investigate clusters that are major outliers.  *Check cluster label 1. Cluster magnitude is the sum of distances from all examples to the centroid of the cluster. *Check cluster label 1. Magnitude vs cardinality: higher cluster cardinality tends to result in higher cluster magnitude. Clusters are anomalous when cardinality doesn't correlate with magnitude relative to the other clusters."
   ]
  },
  {
   "cell_type": "markdown",
   "id": "6af05f6b-d38a-4a2b-8f09-fdefd43ed030",
   "metadata": {},
   "source": [
    "## 6. Visualising PCA and PaCMAP"
   ]
  },
  {
   "cell_type": "markdown",
   "id": "6cb8b9d4-3ea5-4873-a8cf-826d4391656c",
   "metadata": {},
   "source": [
    "Below plot doesn't work where I am passing in y==l in the ax.scatter - any ideas how to correct so it plots the arrays for the cluster?  Alternative plot below"
   ]
  },
  {
   "cell_type": "code",
   "execution_count": null,
   "id": "627b5dfd-f16b-49f4-a9b2-ec5d9d37d348",
   "metadata": {},
   "outputs": [],
   "source": [
    "# Visualizing pca and pacmap\n",
    "from sklearn.decomposition import PCA\n",
    "import pacmap\n",
    "\n",
    "fig, (ax1, ax2) = plt.subplots(1,2,figsize=(12,4), dpi=200)\n",
    "\n",
    "# PCA\n",
    "pca_scaled_std = PCA(n_components=2,random_state=42)\n",
    "\n",
    "X_std_pca = pca_scaled_std.fit_transform(X_norm)\n",
    "y = km_fit.labels_\n",
    "\n",
    "for l, c, m in zip(range(0, km_fit.n_clusters), cluster_colors[0:km_fit.n_clusters], ('^', 's', 'o', '8', 'P', '*', 'D')):\n",
    "    ax1.scatter(X_std_pca[y==l, 0],\n",
    "                X_std_pca[y==l, 1],\n",
    "                color=c,\n",
    "                label='cluster %s' % l,\n",
    "                alpha=0.9,\n",
    "                marker=m\n",
    "                )\n",
    "\n",
    "# PACMAP\n",
    "embedding = pacmap.PaCMAP(random_state=42)\n",
    "#X_std_pacmap = embedding.fit_transform(X_norm.to_numpy())\n",
    "X_std_pacmap = embedding.fit_transform(X_norm)  #already a numpy array\n",
    "\n",
    "for l, c, m in zip(range(0, km_fit.n_clusters), cluster_colors[0:km_fit.n_clusters], ('^', 's', 'o', '8', 'P', '*', 'D')):\n",
    "    \n",
    "    ax2.scatter(X_std_pacmap[y==l, 0],\n",
    "                X_std_pacmap[y==l, 1],\n",
    "                color=c,\n",
    "                label='cluster %s' % l,\n",
    "                alpha=0.9,\n",
    "                marker=m\n",
    "                )\n",
    "    \n",
    "ax1.set_title(\"PCA Visualization\")\n",
    "ax2.set_title(\"PACMAP Visualization\")\n",
    "\n",
    "labels = np.unique(km_fit.labels_)\n",
    "labels = [\"cluster \"+str(l) for l in labels]\n",
    "fig.legend(labels, loc='lower center',ncol=len(labels), bbox_transform=(1,0),borderaxespad=-0.5)\n",
    "plt.tight_layout()\n",
    "plt.show()"
   ]
  },
  {
   "cell_type": "code",
   "execution_count": null,
   "id": "23e5202f-9c54-4667-b70e-c9991f0c8848",
   "metadata": {},
   "outputs": [],
   "source": [
    "fig, (ax1, ax2, ax3) = plt.subplots(1,3,figsize=(14,4), dpi=200)\n",
    "#set labels\n",
    "l = km_fit.labels_\n",
    "\n",
    "# PCA\n",
    "pca_scaled_std = PCA(n_components=2,random_state=42)\n",
    "X_std_pca = pca_scaled_std.fit_transform(X_norm)\n",
    "\n",
    "ax1.scatter(x = X_std_pca[:,0], y = X_std_pca[:,1], cmap='viridis', c=l, s= 25, alpha = 0.7)\n",
    "ax1.set_title('PCA Visualisation')\n",
    "\n",
    "#t-SNE\n",
    "tsne = TSNE(learning_rate = 150)\n",
    "X_tsne = tsne.fit_transform(X_norm)\n",
    "ax2.scatter(x = X_tsne[:,0], y = X_tsne[:,1], cmap = 'viridis', c = l, s = 25, alpha = 0.7)\n",
    "ax2.set_title('TSNE Visualisation')\n",
    "\n",
    "#PACMAP\n",
    "# Setting n_neighbors to \"None\" leads to a default choice shown below in \"parameter\" section\n",
    "embedding = pacmap.PaCMAP(n_components=2, n_neighbors=None, MN_ratio=0.5, FP_ratio=2.0) \n",
    "# fit the data (The index of transformed data corresponds to the index of the original data)\n",
    "X_transformed = embedding.fit_transform(X_norm, init=\"pca\")\n",
    "\n",
    "#plot\n",
    "ax3.scatter(x = X_transformed[:, 0], y = X_transformed[:, 1], cmap=\"viridis\", c=l, s=25, alpha =0.7)\n",
    "ax3.set_title('PACMAP Visualisation');"
   ]
  },
  {
   "cell_type": "markdown",
   "id": "b6f9e27c-c980-4e40-b513-7ffb362e04f5",
   "metadata": {},
   "source": [
    "## 6b. PACMAP Viz by Features"
   ]
  },
  {
   "cell_type": "code",
   "execution_count": null,
   "id": "b33ad794-2699-4070-8d08-57e007266165",
   "metadata": {},
   "outputs": [],
   "source": [
    "#X_transformed['carbon'] = names['Cstock25_Mgha']]\n",
    "\n",
    "ncols = 2\n",
    "nrows = len(names.columns)  // ncols + (len(names.columns)  % ncols > 0)\n",
    "fig = plt.figure(figsize=(15,10))\n",
    "\n",
    "names_r = names.iloc[:, ::-1]\n",
    "\n",
    "for n, feature in enumerate(names_r):\n",
    "    \n",
    "    if feature != 'Site_name':\n",
    "        pass\n",
    "    #print(names[feature])\n",
    "        ax = plt.subplot(nrows, ncols, n + 1)\n",
    "        p = plt.scatter(x = X_transformed[:, 0], y = X_transformed[:, 1], cmap=\"viridis\", c=pd.factorize(names_r[feature])[0], s=50, alpha =0.7)\n",
    "        ax.set_xlabel('feature')\n",
    "        ax.set_title(feature,fontweight=\"bold\") \n",
    "        #ax.legend()\n",
    "\n",
    "fig.suptitle('PACMAP distributions by category', fontsize=18, y=1)   \n",
    "plt.tight_layout()\n",
    "plt.show()"
   ]
  },
  {
   "cell_type": "code",
   "execution_count": null,
   "id": "6c827dc4-139e-4b11-a27a-32bf5eb38216",
   "metadata": {},
   "outputs": [],
   "source": [
    "X_norm.keys()"
   ]
  },
  {
   "cell_type": "code",
   "execution_count": null,
   "id": "47844873-6d31-4e68-a250-108020659ee3",
   "metadata": {},
   "outputs": [],
   "source": [
    "cats = ['exposure', 'mean_area_TUR_Nechad2016_665', 'soil_silt%', 'Tidal_range', 'MEAN_SIG_WAVEHEIGHT', 'soil_carbon_stock', 'OUTFLOW_DENSITY', 'mean_area_p3qaa_eta', 'Erod_High']\n",
    "X_cats = X_norm.loc[:,cats]\n",
    "\n",
    "ncols = 3\n",
    "nrows = len(X_cats.columns)  // ncols + (len(X_cats.columns)  % ncols > 0)\n",
    "fig = plt.figure(figsize=(20,10))\n",
    "\n",
    "for n, feature in enumerate(X_cats):\n",
    "    #print(names[feature])\n",
    "    ax = plt.subplot(nrows, ncols, n + 1)\n",
    "    p = plt.scatter(x = X_transformed[:, 0], y = X_transformed[:, 1], cmap=\"viridis\", c=pd.factorize(X_cats[feature])[0], s=50, alpha =0.7)\n",
    "    ax.set_xlabel('feature')\n",
    "    ax.set_title(feature,fontweight=\"bold\") \n",
    "    #ax.legend()\n",
    "\n",
    "fig.suptitle('PACMAP distributions by feature', fontsize=18, y=1)   \n",
    "plt.tight_layout()\n",
    "plt.show()"
   ]
  },
  {
   "cell_type": "markdown",
   "id": "2463e49e-5ada-48ca-aca1-9a42ec1e9a2a",
   "metadata": {},
   "source": [
    "## 7. Cluster characteristics"
   ]
  },
  {
   "cell_type": "markdown",
   "id": "815ac152-8943-4152-90ab-fee63706a998",
   "metadata": {},
   "source": [
    "Do PCA on full dataset and then visualise on reduced interpretable dataset?"
   ]
  },
  {
   "cell_type": "code",
   "execution_count": null,
   "id": "0d3dee45-23d8-4487-9df0-16c5cb949ea6",
   "metadata": {},
   "outputs": [],
   "source": [
    "#enrich our normalised (X_norm) and non-normalised (X) data with a cluster column.\n",
    "X['cluster'] = km_fit.labels_\n",
    "X_norm['cluster'] = km_fit.labels_"
   ]
  },
  {
   "cell_type": "code",
   "execution_count": null,
   "id": "31d26f24-9a2a-481d-8754-567b3560629f",
   "metadata": {},
   "outputs": [],
   "source": [
    "features = km.feature_names_in_\n",
    "ncols = 4\n",
    "nrows = len(features) // ncols + (len(features) % ncols > 0)\n",
    "fig = plt.figure(figsize=(30,15))\n",
    "\n",
    "for n, feature in enumerate(features):\n",
    "    ax = plt.subplot(nrows, ncols, n + 1)\n",
    "    box = X[[feature, 'cluster']].boxplot(by='cluster',ax=ax,return_type='both',patch_artist = True)\n",
    "\n",
    "    for row_key, (ax,row) in box.items():\n",
    "        ax.set_xlabel('cluster')\n",
    "        ax.set_title(feature,fontweight=\"bold\")\n",
    "        for i,box in enumerate(row['boxes']):\n",
    "            box.set_facecolor(cluster_colors[i])\n",
    "\n",
    "fig.suptitle('Feature distributions per cluster', fontsize=18, y=1)   \n",
    "plt.tight_layout()\n",
    "plt.show()"
   ]
  },
  {
   "cell_type": "markdown",
   "id": "8dfca977-7b12-4287-9b8c-3339fc6da277",
   "metadata": {},
   "source": [
    "The last 4 plots are from the data I encoded - are these messing up the analysis as they are binary?"
   ]
  },
  {
   "cell_type": "markdown",
   "id": "5ac768fc-dac4-4fd2-a51b-cfd817616835",
   "metadata": {},
   "source": [
    "### Data preparation"
   ]
  },
  {
   "cell_type": "code",
   "execution_count": null,
   "id": "b7ddd853-bfda-4227-b575-2c2bb769f23f",
   "metadata": {},
   "outputs": [],
   "source": [
    "X_mean = pd.concat([pd.DataFrame(X.mean().drop('cluster'), columns=['mean']), \n",
    "                   X.groupby('cluster').mean().T], axis=1)\n",
    "\n",
    "X_dev_rel = X_mean.apply(lambda x: round((x-x['mean'])/x['mean'],2)*100, axis = 1)\n",
    "X_dev_rel.drop(columns=['mean'], inplace=True)\n",
    "X_mean.drop(columns=['mean'], inplace=True)"
   ]
  },
  {
   "cell_type": "code",
   "execution_count": null,
   "id": "e1f275f4-ef4d-4a77-9be3-2cd2a8d363d3",
   "metadata": {},
   "outputs": [],
   "source": [
    "X_std_mean = pd.concat([pd.DataFrame(X_norm.mean().drop('cluster'), columns=['mean']), \n",
    "                   X_norm.groupby('cluster').mean().T], axis=1)\n",
    "\n",
    "X_std_dev_rel = X_std_mean.apply(lambda x: round((x-x['mean'])/x['mean'],2)*100, axis = 1)\n",
    "X_std_dev_rel.drop(columns=['mean'], inplace=True)\n",
    "X_std_mean.drop(columns=['mean'], inplace=True)"
   ]
  },
  {
   "cell_type": "markdown",
   "id": "be6d7f0e-82c9-4653-a401-093dbf57f935",
   "metadata": {},
   "source": [
    "First, we calculate the mean for each feature per cluster (X_mean, X_std_mean), which is quite similar to the boxplots above.\n",
    "\n",
    "Second, we calculate the relative differences (in %) of each feature per cluster to the overall average (cluster-independent) per feature (X_dev_rel, X_std_dev_rel). This helps the reader to see how large the differences in each cluster are compared to the overall average of each feature."
   ]
  },
  {
   "cell_type": "markdown",
   "id": "94e26b99-91c3-40f9-acc4-ad5c12b36c92",
   "metadata": {},
   "source": [
    "Now data is in the right shape - continue with visualisations"
   ]
  },
  {
   "cell_type": "markdown",
   "id": "0172892e-12ac-42ec-a76e-916721c9e33a",
   "metadata": {},
   "source": [
    "### Bar plots"
   ]
  },
  {
   "cell_type": "markdown",
   "id": "b144ec96-8e35-42f4-9846-a0169850482e",
   "metadata": {},
   "source": [
    "To visualise relative differences we use bar plots - the following plots the differences per cluster for each feature"
   ]
  },
  {
   "cell_type": "code",
   "execution_count": null,
   "id": "77304b42-25c6-45c4-bc20-c33baea5a790",
   "metadata": {},
   "outputs": [],
   "source": [
    "import matplotlib.patches as mpatches\n",
    "def cluster_comparison_bar(X_comparison, colors, deviation=True ,title=\"Cluster results\"):\n",
    "    \n",
    "    features = X_comparison.index\n",
    "    ncols = 3\n",
    "    # calculate number of rows\n",
    "    nrows = len(features) // ncols + (len(features) % ncols > 0)\n",
    "    # set figure size\n",
    "    fig = plt.figure(figsize=(15,15), dpi=200)\n",
    "    #interate through every feature\n",
    "    for n, feature in enumerate(features):\n",
    "        # create chart\n",
    "        ax = plt.subplot(nrows, ncols, n + 1)\n",
    "        X_comparison[X_comparison.index==feature].plot(kind='bar', ax=ax, title=feature, \n",
    "                                                             color=colors[0:X.cluster.nunique()],\n",
    "                                                             legend=False\n",
    "                                                            )\n",
    "        plt.axhline(y=0)\n",
    "        x_axis = ax.axes.get_xaxis()\n",
    "        x_axis.set_visible(False)\n",
    "\n",
    "    c_labels = X_comparison.columns.to_list()\n",
    "    c_colors = colors[0:3]\n",
    "    mpats = [mpatches.Patch(color=c, label=l) for c,l in list(zip(colors[0:X.cluster.nunique()],\n",
    "                                                                  X_comparison.columns.to_list()))]\n",
    "\n",
    "    fig.legend(handles=mpats,\n",
    "               ncol=ncols,\n",
    "               loc=\"upper center\",\n",
    "               fancybox=True,\n",
    "               bbox_to_anchor=(0.5, 0.98)\n",
    "              )\n",
    "    axes = fig.get_axes()\n",
    "    \n",
    "    fig.suptitle(title, fontsize=18, y=1)\n",
    "    fig.supylabel('Deviation from overall mean in %')\n",
    "    plt.tight_layout()\n",
    "    plt.subplots_adjust(top=0.93)\n",
    "    plt.show()\n",
    "    \n",
    "cluster_comparison_bar(X_dev_rel, cluster_colors, title=\"Comparison of the mean per cluster to overall mean in percent\")"
   ]
  },
  {
   "cell_type": "markdown",
   "id": "1e80ac32-4bad-4efb-a641-12ece9ae8253",
   "metadata": {},
   "source": [
    "These above show the very details of each cluster. "
   ]
  },
  {
   "cell_type": "markdown",
   "id": "ce7a9949-64a8-4aff-a628-455be8ded09a",
   "metadata": {},
   "source": [
    "Now summarise all the relevant results and characteristics in one chart"
   ]
  },
  {
   "cell_type": "code",
   "execution_count": null,
   "id": "b8e5dfe8-8990-4be9-a728-8f5ecd7b6c91",
   "metadata": {},
   "outputs": [],
   "source": [
    "colors = ['#9EBD6E','#81a094','#775b59','#32161f', '#946846', '#E3C16F', '#fe938c', '#E6B89C','#EAD2AC',\n",
    "          '#DE9E36', '#4281A4','#37323E','#95818D'\n",
    "         ]\n",
    "\n",
    "fig = plt.figure(figsize=(30,15), dpi=200)\n",
    "X_dev_rel.T.plot(kind='bar', \n",
    "                       ax=fig.add_subplot(), \n",
    "                       title=\"Cluster characteristics\", \n",
    "                       color=colors,\n",
    "                       xlabel=\"Cluster\",\n",
    "                       ylabel=\"Deviation from overall mean in %\"\n",
    "                      )\n",
    "plt.axhline(y=0, linewidth=1, ls='--', color='black')\n",
    "plt.legend(bbox_to_anchor=(1.04,1))\n",
    "fig.autofmt_xdate(rotation=0)\n",
    "plt.tight_layout()\n",
    "plt.show()"
   ]
  },
  {
   "cell_type": "markdown",
   "id": "ccc6c0c2-9e24-423e-8708-f8f05144d8e6",
   "metadata": {},
   "source": [
    "The above shows the relative deviation of each feature from its overall average per cluster"
   ]
  },
  {
   "cell_type": "markdown",
   "id": "2c40ca69-16b5-4b78-862c-6bdb55150041",
   "metadata": {},
   "source": [
    "Cluster group looks like it has some anomolous data in outflow density??"
   ]
  },
  {
   "cell_type": "markdown",
   "id": "7a2083a2-0806-40a3-9a70-b41ce494ee29",
   "metadata": {},
   "source": [
    "### Radar chart"
   ]
  },
  {
   "cell_type": "markdown",
   "id": "7b18e99d-266d-456a-84d9-3c2161a141d1",
   "metadata": {},
   "source": [
    "The radar chart below plots the calculated means of our normalised data"
   ]
  },
  {
   "cell_type": "code",
   "execution_count": null,
   "id": "018e55ec-dd14-4dce-85f2-ed4fd642763e",
   "metadata": {},
   "outputs": [],
   "source": [
    "class Radar(object):\n",
    "    def __init__(self, figure, title, labels, rect=None):\n",
    "        if rect is None:\n",
    "            rect = [0.05, 0.05, 0.9, 0.9]\n",
    "\n",
    "        self.n = len(title)\n",
    "        self.angles = np.arange(0, 360, 360.0/self.n)\n",
    "        \n",
    "        self.axes = [figure.add_axes(rect, projection='polar', label='axes%d' % i) for i in range(self.n)]\n",
    "        self.ax = self.axes[0]\n",
    "        self.ax.set_thetagrids(self.angles, labels=title, fontsize=14, backgroundcolor=\"white\",zorder=999) # Feature names\n",
    "        self.ax.set_yticklabels([])\n",
    "        \n",
    "        for ax in self.axes[1:]:\n",
    "            ax.xaxis.set_visible(False)\n",
    "            ax.set_yticklabels([])\n",
    "            ax.set_zorder(-99)\n",
    "\n",
    "        for ax, angle, label in zip(self.axes, self.angles, labels):\n",
    "            ax.spines['polar'].set_color('black')\n",
    "            ax.spines['polar'].set_zorder(-99)\n",
    "                     \n",
    "    def plot(self, values, *args, **kw):\n",
    "        angle = np.deg2rad(np.r_[self.angles, self.angles[0]])\n",
    "        values = np.r_[values, values[0]]\n",
    "        self.ax.plot(angle, values, *args, **kw)\n",
    "        kw['label'] = '_noLabel'\n",
    "        self.ax.fill(angle, values,*args,**kw)\n",
    "\n",
    "fig = plt.figure(figsize=(10, 10))\n",
    "no_features = len(km.feature_names_in_)\n",
    "radar = Radar(fig, km.feature_names_in_, np.unique(km.labels_))\n",
    "\n",
    "for k in range(0,km.n_clusters):\n",
    "    cluster_data = X_std_mean[k].values.tolist()\n",
    "    radar.plot(cluster_data,  '-', lw=2, color=cluster_colors[k], alpha=0.7, label='cluster {}'.format(k))\n",
    "\n",
    "radar.ax.legend()\n",
    "radar.ax.set_title(\"Cluster characteristics: Feature means per cluster\", size=22, pad=60)\n",
    "plt.show()"
   ]
  },
  {
   "cell_type": "markdown",
   "id": "834ebcbc-9b5d-41e5-8bd2-14d69e536d8f",
   "metadata": {},
   "source": [
    "If use the non-standardised data, the different scales would crash the visualisation - so plot the values with the same unit or at least within similar value ranges"
   ]
  },
  {
   "cell_type": "markdown",
   "id": "6e7848c1-75b8-4f08-ad91-b9cbe373d5dd",
   "metadata": {},
   "source": [
    "## 8. Cross tabs to understand clusters"
   ]
  },
  {
   "cell_type": "code",
   "execution_count": null,
   "id": "2b9daaf8-e6a0-4842-9848-2b75ad1c34b7",
   "metadata": {},
   "outputs": [],
   "source": [
    "#create cross-tab with species\n",
    "labels = km.labels_\n",
    "species = names['Species']\n",
    "df = pd.DataFrame({'labels' : labels, 'species': species})\n",
    "ct_s = pd.crosstab(df['labels'], df['species'])\n",
    "ct_s"
   ]
  },
  {
   "cell_type": "code",
   "execution_count": null,
   "id": "d4430583-2804-4f56-b86d-27937370f70b",
   "metadata": {},
   "outputs": [],
   "source": [
    "ax = ct_s.plot(kind='bar', stacked=True, rot=0)\n",
    "ax.legend(title='mark', bbox_to_anchor=(1, 1.02), loc='upper left')\n",
    "plt.title('Cluster groups by species')\n",
    "# add annotations if desired\n",
    "for c in ax.containers:\n",
    "    \n",
    "    # set the bar label\n",
    "    ax.bar_label(c, label_type='center')"
   ]
  },
  {
   "cell_type": "code",
   "execution_count": null,
   "id": "12364f22-b380-465b-bc88-1e75d7bce70f",
   "metadata": {},
   "outputs": [],
   "source": [
    "#create carbon binned data\n",
    "df_carbon = names.loc[:, ['Cstock25_Mgha', 'Site_name']]\n",
    "df_carbon['cstock_log'] = np.log10(df_carbon.Cstock25_Mgha)\n",
    "bins = [0, 0.5, 1.0, 1.5, 2.0, 2.5, np.inf]\n",
    "cat = ['<0.5', '0.5-1.0', '1.0 - 1.5', '1.5-2.0', '2.0-2.5', '>2.5']\n",
    "df_carbon['carbon_bin'] = pd.cut(df_carbon['cstock_log'], bins, labels = cat)\n",
    "#df_carbon\n",
    "#create cross-tab with carbon\n",
    "carbon = df_carbon.loc[:,'carbon_bin']\n",
    "df = pd.DataFrame({'labels' : labels, 'carbon': carbon})\n",
    "ct_c = pd.crosstab(df['labels'], df['carbon'])\n",
    "ct_c"
   ]
  },
  {
   "cell_type": "code",
   "execution_count": null,
   "id": "b2fa94e2-6867-4c88-89c0-4eaddcfd016d",
   "metadata": {},
   "outputs": [],
   "source": [
    "ax = ct_c.plot(kind='bar', stacked=True, rot=0)\n",
    "ax.legend(title='mark', bbox_to_anchor=(1, 1.02), loc='upper left')\n",
    "plt.title('Cluster groups by carbon stock')\n",
    "# add annotations if desired\n",
    "for c in ax.containers:\n",
    "    \n",
    "    # set the bar label\n",
    "    ax.bar_label(c, label_type='center')"
   ]
  },
  {
   "cell_type": "code",
   "execution_count": null,
   "id": "113f1cd5-c728-4fc6-86eb-b4c75ea94160",
   "metadata": {},
   "outputs": [],
   "source": [
    "#create cross-tab with ecoregion\n",
    "region = names['PROVINCE']\n",
    "df = pd.DataFrame({'labels' : labels, 'region': region})\n",
    "ct_er = pd.crosstab(df['labels'], df['region'])\n",
    "\n",
    "ax = ct_er.plot(kind='bar', stacked=True, rot=0)\n",
    "ax.legend(title='mark', bbox_to_anchor=(1, 1.02), loc='upper left')\n",
    "plt.title('Cluster groups by eco-region')\n",
    "# add annotations if desired\n",
    "for c in ax.containers:\n",
    "    \n",
    "    # set the bar label\n",
    "    ax.bar_label(c, label_type='center')"
   ]
  },
  {
   "cell_type": "code",
   "execution_count": null,
   "id": "c558c117-a35e-43da-a6a4-0868567fdffd",
   "metadata": {},
   "outputs": [],
   "source": [
    "## Random viz by exposure and carbon"
   ]
  },
  {
   "cell_type": "code",
   "execution_count": null,
   "id": "921c6134-1914-4d66-ab6f-7975e74d65bb",
   "metadata": {},
   "outputs": [],
   "source": [
    "#visualise data\n",
    "#assign columns of lat and long as xs and yx\n",
    "xs = names.loc[:, 'Cstock25_Mgha']\n",
    "xs = np.log10(xs)\n",
    "ys = df_cluster.loc[:, 'exposure']\n",
    "ys = np.log10(ys)  # re-log as taken unlogged exposure from df_encoded df\n",
    "#assign the cluster centroids\n",
    "centroids = km_fit.cluster_centers_\n",
    "centroids_x = centroids[:,0]\n",
    "centroids_y = centroids[:,1]\n",
    "km_fit.n_clusters\n",
    "\n",
    "#make a scatter plot of xs and yx using labels to define the colours\n",
    "cluster_colors = ['#b4d2b1', '#568f8b', '#1d4a60', '#cd7e59', '#ddb247', '#d15252', '#e9d8a6', '#bb3e03', '#9b2226']\n",
    "plt.scatter(xs, ys, c = labels, alpha = 0.5)\n",
    "#add on centroids_x and centroids_y\n",
    "plt.scatter(centroids_x, centroids_y, marker = 'D', c = cluster_colors[0:km_fit.n_clusters])\n",
    "plt.show()"
   ]
  },
  {
   "cell_type": "code",
   "execution_count": null,
   "id": "5fccced3-f15a-4ccd-b408-87adceed09b4",
   "metadata": {},
   "outputs": [],
   "source": []
  }
 ],
 "metadata": {
  "kernelspec": {
   "display_name": "Python 3 (ipykernel)",
   "language": "python",
   "name": "python3"
  },
  "language_info": {
   "codemirror_mode": {
    "name": "ipython",
    "version": 3
   },
   "file_extension": ".py",
   "mimetype": "text/x-python",
   "name": "python",
   "nbconvert_exporter": "python",
   "pygments_lexer": "ipython3",
   "version": "3.11.4"
  }
 },
 "nbformat": 4,
 "nbformat_minor": 5
}
